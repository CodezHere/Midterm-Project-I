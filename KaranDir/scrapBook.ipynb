{
 "cells": [
  {
   "cell_type": "markdown",
   "metadata": {},
   "source": [
    "# **Scrapbook**"
   ]
  },
  {
   "cell_type": "code",
   "execution_count": 1,
   "metadata": {},
   "outputs": [],
   "source": [
    "import matplotlib.pyplot as plt\n",
    "import seaborn as sns\n",
    "\n",
    "from datetime import datetime\n",
    "\n",
    "import pandas as pd\n",
    "import numpy as np\n",
    "from sklearn.linear_model import LinearRegression\n",
    "from sklearn.model_selection import train_test_split\n",
    "from sklearn import metrics\n",
    "from sklearn.metrics import mean_squared_error, r2_score\n",
    "from sklearn import preprocessing\n",
    "from sklearn.preprocessing import StandardScaler, OneHotEncoder\n",
    "import statsmodels.api as sm\n",
    "scaler = StandardScaler()\n",
    "le = preprocessing.LabelEncoder()\n",
    "enc = OneHotEncoder()\n",
    "#import xgboost as xgb\n"
   ]
  },
  {
   "cell_type": "markdown",
   "metadata": {},
   "source": [
    "## **Data Exploring** "
   ]
  },
  {
   "cell_type": "markdown",
   "metadata": {},
   "source": [
    "### Num of flights per 'op_unique_carrier'"
   ]
  },
  {
   "cell_type": "code",
   "execution_count": 2,
   "metadata": {},
   "outputs": [
    {
     "ename": "FileNotFoundError",
     "evalue": "[Errno 2] No such file or directory: 'Num Flights by op_unique_carrier.xlsx'",
     "output_type": "error",
     "traceback": [
      "\u001b[0;31m---------------------------------------------------------------------------\u001b[0m",
      "\u001b[0;31mFileNotFoundError\u001b[0m                         Traceback (most recent call last)",
      "\u001b[0;32m<ipython-input-2-99984399c926>\u001b[0m in \u001b[0;36m<module>\u001b[0;34m\u001b[0m\n\u001b[0;32m----> 1\u001b[0;31m \u001b[0mOP_unique_carrier\u001b[0m \u001b[0;34m=\u001b[0m \u001b[0mpd\u001b[0m\u001b[0;34m.\u001b[0m\u001b[0mread_excel\u001b[0m\u001b[0;34m(\u001b[0m\u001b[0;34m'Num Flights by op_unique_carrier.xlsx'\u001b[0m\u001b[0;34m)\u001b[0m\u001b[0;34m\u001b[0m\u001b[0;34m\u001b[0m\u001b[0m\n\u001b[0m",
      "\u001b[0;32m~/anaconda3/lib/python3.7/site-packages/pandas/util/_decorators.py\u001b[0m in \u001b[0;36mwrapper\u001b[0;34m(*args, **kwargs)\u001b[0m\n\u001b[1;32m    297\u001b[0m                 )\n\u001b[1;32m    298\u001b[0m                 \u001b[0mwarnings\u001b[0m\u001b[0;34m.\u001b[0m\u001b[0mwarn\u001b[0m\u001b[0;34m(\u001b[0m\u001b[0mmsg\u001b[0m\u001b[0;34m,\u001b[0m \u001b[0mFutureWarning\u001b[0m\u001b[0;34m,\u001b[0m \u001b[0mstacklevel\u001b[0m\u001b[0;34m=\u001b[0m\u001b[0mstacklevel\u001b[0m\u001b[0;34m)\u001b[0m\u001b[0;34m\u001b[0m\u001b[0;34m\u001b[0m\u001b[0m\n\u001b[0;32m--> 299\u001b[0;31m             \u001b[0;32mreturn\u001b[0m \u001b[0mfunc\u001b[0m\u001b[0;34m(\u001b[0m\u001b[0;34m*\u001b[0m\u001b[0margs\u001b[0m\u001b[0;34m,\u001b[0m \u001b[0;34m**\u001b[0m\u001b[0mkwargs\u001b[0m\u001b[0;34m)\u001b[0m\u001b[0;34m\u001b[0m\u001b[0;34m\u001b[0m\u001b[0m\n\u001b[0m\u001b[1;32m    300\u001b[0m \u001b[0;34m\u001b[0m\u001b[0m\n\u001b[1;32m    301\u001b[0m         \u001b[0;32mreturn\u001b[0m \u001b[0mwrapper\u001b[0m\u001b[0;34m\u001b[0m\u001b[0;34m\u001b[0m\u001b[0m\n",
      "\u001b[0;32m~/anaconda3/lib/python3.7/site-packages/pandas/io/excel/_base.py\u001b[0m in \u001b[0;36mread_excel\u001b[0;34m(io, sheet_name, header, names, index_col, usecols, squeeze, dtype, engine, converters, true_values, false_values, skiprows, nrows, na_values, keep_default_na, na_filter, verbose, parse_dates, date_parser, thousands, comment, skipfooter, convert_float, mangle_dupe_cols, storage_options)\u001b[0m\n\u001b[1;32m    334\u001b[0m     \u001b[0;32mif\u001b[0m \u001b[0;32mnot\u001b[0m \u001b[0misinstance\u001b[0m\u001b[0;34m(\u001b[0m\u001b[0mio\u001b[0m\u001b[0;34m,\u001b[0m \u001b[0mExcelFile\u001b[0m\u001b[0;34m)\u001b[0m\u001b[0;34m:\u001b[0m\u001b[0;34m\u001b[0m\u001b[0;34m\u001b[0m\u001b[0m\n\u001b[1;32m    335\u001b[0m         \u001b[0mshould_close\u001b[0m \u001b[0;34m=\u001b[0m \u001b[0;32mTrue\u001b[0m\u001b[0;34m\u001b[0m\u001b[0;34m\u001b[0m\u001b[0m\n\u001b[0;32m--> 336\u001b[0;31m         \u001b[0mio\u001b[0m \u001b[0;34m=\u001b[0m \u001b[0mExcelFile\u001b[0m\u001b[0;34m(\u001b[0m\u001b[0mio\u001b[0m\u001b[0;34m,\u001b[0m \u001b[0mstorage_options\u001b[0m\u001b[0;34m=\u001b[0m\u001b[0mstorage_options\u001b[0m\u001b[0;34m,\u001b[0m \u001b[0mengine\u001b[0m\u001b[0;34m=\u001b[0m\u001b[0mengine\u001b[0m\u001b[0;34m)\u001b[0m\u001b[0;34m\u001b[0m\u001b[0;34m\u001b[0m\u001b[0m\n\u001b[0m\u001b[1;32m    337\u001b[0m     \u001b[0;32melif\u001b[0m \u001b[0mengine\u001b[0m \u001b[0;32mand\u001b[0m \u001b[0mengine\u001b[0m \u001b[0;34m!=\u001b[0m \u001b[0mio\u001b[0m\u001b[0;34m.\u001b[0m\u001b[0mengine\u001b[0m\u001b[0;34m:\u001b[0m\u001b[0;34m\u001b[0m\u001b[0;34m\u001b[0m\u001b[0m\n\u001b[1;32m    338\u001b[0m         raise ValueError(\n",
      "\u001b[0;32m~/anaconda3/lib/python3.7/site-packages/pandas/io/excel/_base.py\u001b[0m in \u001b[0;36m__init__\u001b[0;34m(self, path_or_buffer, engine, storage_options)\u001b[0m\n\u001b[1;32m   1056\u001b[0m         \u001b[0;32melse\u001b[0m\u001b[0;34m:\u001b[0m\u001b[0;34m\u001b[0m\u001b[0;34m\u001b[0m\u001b[0m\n\u001b[1;32m   1057\u001b[0m             ext = inspect_excel_format(\n\u001b[0;32m-> 1058\u001b[0;31m                 \u001b[0mcontent\u001b[0m\u001b[0;34m=\u001b[0m\u001b[0mpath_or_buffer\u001b[0m\u001b[0;34m,\u001b[0m \u001b[0mstorage_options\u001b[0m\u001b[0;34m=\u001b[0m\u001b[0mstorage_options\u001b[0m\u001b[0;34m\u001b[0m\u001b[0;34m\u001b[0m\u001b[0m\n\u001b[0m\u001b[1;32m   1059\u001b[0m             )\n\u001b[1;32m   1060\u001b[0m \u001b[0;34m\u001b[0m\u001b[0m\n",
      "\u001b[0;32m~/anaconda3/lib/python3.7/site-packages/pandas/io/excel/_base.py\u001b[0m in \u001b[0;36minspect_excel_format\u001b[0;34m(path, content, storage_options)\u001b[0m\n\u001b[1;32m    937\u001b[0m \u001b[0;34m\u001b[0m\u001b[0m\n\u001b[1;32m    938\u001b[0m     with get_handle(\n\u001b[0;32m--> 939\u001b[0;31m         \u001b[0mcontent_or_path\u001b[0m\u001b[0;34m,\u001b[0m \u001b[0;34m\"rb\"\u001b[0m\u001b[0;34m,\u001b[0m \u001b[0mstorage_options\u001b[0m\u001b[0;34m=\u001b[0m\u001b[0mstorage_options\u001b[0m\u001b[0;34m,\u001b[0m \u001b[0mis_text\u001b[0m\u001b[0;34m=\u001b[0m\u001b[0;32mFalse\u001b[0m\u001b[0;34m\u001b[0m\u001b[0;34m\u001b[0m\u001b[0m\n\u001b[0m\u001b[1;32m    940\u001b[0m     ) as handle:\n\u001b[1;32m    941\u001b[0m         \u001b[0mstream\u001b[0m \u001b[0;34m=\u001b[0m \u001b[0mhandle\u001b[0m\u001b[0;34m.\u001b[0m\u001b[0mhandle\u001b[0m\u001b[0;34m\u001b[0m\u001b[0;34m\u001b[0m\u001b[0m\n",
      "\u001b[0;32m~/anaconda3/lib/python3.7/site-packages/pandas/io/common.py\u001b[0m in \u001b[0;36mget_handle\u001b[0;34m(path_or_buf, mode, encoding, compression, memory_map, is_text, errors, storage_options)\u001b[0m\n\u001b[1;32m    649\u001b[0m         \u001b[0;32melse\u001b[0m\u001b[0;34m:\u001b[0m\u001b[0;34m\u001b[0m\u001b[0;34m\u001b[0m\u001b[0m\n\u001b[1;32m    650\u001b[0m             \u001b[0;31m# Binary mode\u001b[0m\u001b[0;34m\u001b[0m\u001b[0;34m\u001b[0m\u001b[0;34m\u001b[0m\u001b[0m\n\u001b[0;32m--> 651\u001b[0;31m             \u001b[0mhandle\u001b[0m \u001b[0;34m=\u001b[0m \u001b[0mopen\u001b[0m\u001b[0;34m(\u001b[0m\u001b[0mhandle\u001b[0m\u001b[0;34m,\u001b[0m \u001b[0mioargs\u001b[0m\u001b[0;34m.\u001b[0m\u001b[0mmode\u001b[0m\u001b[0;34m)\u001b[0m\u001b[0;34m\u001b[0m\u001b[0;34m\u001b[0m\u001b[0m\n\u001b[0m\u001b[1;32m    652\u001b[0m         \u001b[0mhandles\u001b[0m\u001b[0;34m.\u001b[0m\u001b[0mappend\u001b[0m\u001b[0;34m(\u001b[0m\u001b[0mhandle\u001b[0m\u001b[0;34m)\u001b[0m\u001b[0;34m\u001b[0m\u001b[0;34m\u001b[0m\u001b[0m\n\u001b[1;32m    653\u001b[0m \u001b[0;34m\u001b[0m\u001b[0m\n",
      "\u001b[0;31mFileNotFoundError\u001b[0m: [Errno 2] No such file or directory: 'Num Flights by op_unique_carrier.xlsx'"
     ]
    }
   ],
   "source": [
    "OP_unique_carrier = pd.read_excel('Num Flights by op_unique_carrier.xlsx')"
   ]
  },
  {
   "cell_type": "markdown",
   "metadata": {},
   "source": [
    "##### Might be interesting to give 'weight' to carriers by assigning a numerical classification based on number of flights (**should be** higher number for higher number of flights **??**)"
   ]
  },
  {
   "cell_type": "code",
   "execution_count": null,
   "metadata": {},
   "outputs": [],
   "source": [
    "OP_unique_carrier['category'] = [1,2,2,2,2,3,3,3,3,3,3,4,4,4,5,5,5,5,5,5,5,5,5,5,6,6,6,6]"
   ]
  },
  {
   "cell_type": "code",
   "execution_count": null,
   "metadata": {},
   "outputs": [],
   "source": [
    "OP_unique_carrier.head()"
   ]
  },
  {
   "cell_type": "code",
   "execution_count": null,
   "metadata": {},
   "outputs": [],
   "source": [
    "plt.figure(figsize=(16, 6))\n",
    "sns.barplot(x=OP_unique_carrier['op_unique_carrier'], y=OP_unique_carrier['flights_by_carrier'], palette=\"Blues\")"
   ]
  },
  {
   "cell_type": "code",
   "execution_count": null,
   "metadata": {},
   "outputs": [],
   "source": [
    "plt.figure(figsize=(12, 6))\n",
    "sns.barplot(x=OP_unique_carrier['category'], y=OP_unique_carrier['flights_by_carrier'], palette=\"Blues\")"
   ]
  },
  {
   "cell_type": "markdown",
   "metadata": {},
   "source": [
    "### Number of flights leaving from 'origin'"
   ]
  },
  {
   "cell_type": "code",
   "execution_count": null,
   "metadata": {},
   "outputs": [],
   "source": [
    "flights_per_origin = pd.read_excel('Test_Data/num_flights_origin.xlsx')\n",
    "flights_per_origin.head(20)\n"
   ]
  },
  {
   "cell_type": "markdown",
   "metadata": {},
   "source": [
    "### 'origin'(s) with most traffic"
   ]
  },
  {
   "cell_type": "code",
   "execution_count": null,
   "metadata": {},
   "outputs": [],
   "source": [
    "# Origins with most traffic\n",
    "max_flights_origin = flights_per_origin.head(20)\n",
    "max_flights_origin"
   ]
  },
  {
   "cell_type": "code",
   "execution_count": null,
   "metadata": {},
   "outputs": [],
   "source": [
    "#Avg flights from origin\n",
    "plt.figure(figsize=(15, 7))\n",
    "sns.barplot(x=flights_per_origin['origin'], y=flights_per_origin['num_flights_origin'], palette=\"deep\")"
   ]
  },
  {
   "cell_type": "markdown",
   "metadata": {},
   "source": [
    "### Avg arrival delay for flights departing from 'origin'"
   ]
  },
  {
   "cell_type": "code",
   "execution_count": null,
   "metadata": {},
   "outputs": [],
   "source": [
    "avg_arr_delay_origin = pd.read_excel('Test_Data/avg_arr_delay_origin.xlsx')\n",
    "avg_arr_delay_origin.head(15)"
   ]
  },
  {
   "cell_type": "code",
   "execution_count": null,
   "metadata": {},
   "outputs": [],
   "source": [
    "# avg arrival delay for flights departing from origin\n",
    "plt.figure(figsize=(15, 7))\n",
    "sns.barplot(x=avg_arr_delay_origin['origin'], y=avg_arr_delay_origin['avg_delay_origin'], palette=\"deep\")"
   ]
  },
  {
   "cell_type": "markdown",
   "metadata": {},
   "source": [
    "  "
   ]
  },
  {
   "cell_type": "markdown",
   "metadata": {},
   "source": [
    " "
   ]
  },
  {
   "cell_type": "markdown",
   "metadata": {},
   "source": [
    "## **Model Testing**"
   ]
  },
  {
   "cell_type": "code",
   "execution_count": null,
   "metadata": {},
   "outputs": [],
   "source": [
    "testData = pd.read_excel('Test_Data/testData.xlsx')"
   ]
  },
  {
   "cell_type": "code",
   "execution_count": null,
   "metadata": {},
   "outputs": [],
   "source": [
    "testData"
   ]
  },
  {
   "cell_type": "markdown",
   "metadata": {},
   "source": [
    "### Use this for categorizing 'origin' **OR**"
   ]
  },
  {
   "cell_type": "code",
   "execution_count": null,
   "metadata": {},
   "outputs": [],
   "source": [
    "testData.replace({'origin': {'JFK':1.0, 'MCO':1.5, 'DCA':2.0, 'BOS':2.5, 'PHL':3.0, 'EWR':3.5, 'MSP':4.0, 'LAS':4.5, 'LGA':5.0, 'DTW':5.5, 'IAH':6.0, 'PHX': 6.5, 'SFO':7.0, 'SEA':7.5, 'LAX':8, 'CLT':8.5,\n",
    "                                  'DEN':9.0, 'DFW':9.5, 'ATL':10.0, 'ORD':10.0}}, inplace=True)"
   ]
  },
  {
   "cell_type": "markdown",
   "metadata": {},
   "source": [
    "### Use this one"
   ]
  },
  {
   "cell_type": "code",
   "execution_count": null,
   "metadata": {},
   "outputs": [],
   "source": [
    "testData.replace({'origin': {'JFK':32.5, 'MCO':35.0, 'DCA':36.0, 'BOS':38.0, 'PHL':39.0, 'EWR':40.5, 'MSP':41.0, 'LAS':42.0, 'LGA':43.0, 'DTW':43.5, 'IAH':45.0, 'PHX': 45.0, 'SFO':45.0, 'SEA':48.0, 'LAX':63.0, 'CLT':63.4,\n",
    "                                  'DEN':69.8, 'DFW':73.9, 'ATL':99.0, 'ORD':100.0}}, inplace=True)"
   ]
  },
  {
   "cell_type": "code",
   "execution_count": null,
   "metadata": {},
   "outputs": [],
   "source": [
    "testData.head()"
   ]
  },
  {
   "cell_type": "markdown",
   "metadata": {},
   "source": [
    "  "
   ]
  },
  {
   "cell_type": "markdown",
   "metadata": {},
   "source": [
    "#### Converting str to NaN and then to 0:"
   ]
  },
  {
   "cell_type": "code",
   "execution_count": null,
   "metadata": {},
   "outputs": [],
   "source": [
    "# converting str to NaN in origin\n",
    "testData['origin'] = pd.to_numeric(testData['origin'], errors='coerce')\n",
    "testData.head()"
   ]
  },
  {
   "cell_type": "code",
   "execution_count": null,
   "metadata": {},
   "outputs": [],
   "source": [
    "# Converting NaN to 0\n",
    "testData['origin'] = testData['origin'].fillna(0)\n",
    "testData.head()"
   ]
  },
  {
   "cell_type": "markdown",
   "metadata": {},
   "source": [
    " "
   ]
  },
  {
   "cell_type": "markdown",
   "metadata": {},
   "source": [
    "#### **Converting** 'fl_date' to dateTime and then **Extracting** 'Month':"
   ]
  },
  {
   "cell_type": "code",
   "execution_count": null,
   "metadata": {},
   "outputs": [],
   "source": [
    "# Converting to DateTime\n",
    "testData['fl_date'] = pd.to_datetime(testData.fl_date, format=\"%Y-%m-%d\")\n",
    "\n",
    "#Extracting Month\n",
    "testData['month'] = testData['fl_date'].dt.month"
   ]
  },
  {
   "cell_type": "markdown",
   "metadata": {},
   "source": [
    " "
   ]
  },
  {
   "cell_type": "markdown",
   "metadata": {},
   "source": [
    "#### Use these dummy variables (mkt_unique_carrier) **OR**:"
   ]
  },
  {
   "cell_type": "code",
   "execution_count": 10,
   "metadata": {},
   "outputs": [
    {
     "data": {
      "text/html": [
       "<div>\n",
       "<style scoped>\n",
       "    .dataframe tbody tr th:only-of-type {\n",
       "        vertical-align: middle;\n",
       "    }\n",
       "\n",
       "    .dataframe tbody tr th {\n",
       "        vertical-align: top;\n",
       "    }\n",
       "\n",
       "    .dataframe thead th {\n",
       "        text-align: right;\n",
       "    }\n",
       "</style>\n",
       "<table border=\"1\" class=\"dataframe\">\n",
       "  <thead>\n",
       "    <tr style=\"text-align: right;\">\n",
       "      <th></th>\n",
       "      <th>fl_date</th>\n",
       "      <th>mkt_unique_carrier</th>\n",
       "      <th>op_unique_carrier</th>\n",
       "      <th>origin</th>\n",
       "      <th>origin_city_name</th>\n",
       "      <th>dest</th>\n",
       "      <th>dest_city_name</th>\n",
       "      <th>crs_dep_time</th>\n",
       "      <th>dep_time</th>\n",
       "      <th>crs_arr_time</th>\n",
       "      <th>...</th>\n",
       "      <th>AS</th>\n",
       "      <th>B6</th>\n",
       "      <th>DL</th>\n",
       "      <th>F9</th>\n",
       "      <th>G4</th>\n",
       "      <th>HA</th>\n",
       "      <th>NK</th>\n",
       "      <th>UA</th>\n",
       "      <th>VX</th>\n",
       "      <th>WN</th>\n",
       "    </tr>\n",
       "  </thead>\n",
       "  <tbody>\n",
       "    <tr>\n",
       "      <th>0</th>\n",
       "      <td>2018-01-28</td>\n",
       "      <td>WN</td>\n",
       "      <td>WN</td>\n",
       "      <td>0.0</td>\n",
       "      <td>Santa Ana, CA</td>\n",
       "      <td>SJC</td>\n",
       "      <td>San Jose, CA</td>\n",
       "      <td>1615</td>\n",
       "      <td>1614</td>\n",
       "      <td>1735</td>\n",
       "      <td>...</td>\n",
       "      <td>0</td>\n",
       "      <td>0</td>\n",
       "      <td>0</td>\n",
       "      <td>0</td>\n",
       "      <td>0</td>\n",
       "      <td>0</td>\n",
       "      <td>0</td>\n",
       "      <td>0</td>\n",
       "      <td>0</td>\n",
       "      <td>1</td>\n",
       "    </tr>\n",
       "    <tr>\n",
       "      <th>1</th>\n",
       "      <td>2018-01-08</td>\n",
       "      <td>AA</td>\n",
       "      <td>YV</td>\n",
       "      <td>0.0</td>\n",
       "      <td>Chattanooga, TN</td>\n",
       "      <td>DFW</td>\n",
       "      <td>Dallas/Fort Worth, TX</td>\n",
       "      <td>1635</td>\n",
       "      <td>1632</td>\n",
       "      <td>1753</td>\n",
       "      <td>...</td>\n",
       "      <td>0</td>\n",
       "      <td>0</td>\n",
       "      <td>0</td>\n",
       "      <td>0</td>\n",
       "      <td>0</td>\n",
       "      <td>0</td>\n",
       "      <td>0</td>\n",
       "      <td>0</td>\n",
       "      <td>0</td>\n",
       "      <td>0</td>\n",
       "    </tr>\n",
       "    <tr>\n",
       "      <th>2</th>\n",
       "      <td>2018-01-20</td>\n",
       "      <td>WN</td>\n",
       "      <td>WN</td>\n",
       "      <td>69.8</td>\n",
       "      <td>Denver, CO</td>\n",
       "      <td>SEA</td>\n",
       "      <td>Seattle, WA</td>\n",
       "      <td>2035</td>\n",
       "      <td>2029</td>\n",
       "      <td>2235</td>\n",
       "      <td>...</td>\n",
       "      <td>0</td>\n",
       "      <td>0</td>\n",
       "      <td>0</td>\n",
       "      <td>0</td>\n",
       "      <td>0</td>\n",
       "      <td>0</td>\n",
       "      <td>0</td>\n",
       "      <td>0</td>\n",
       "      <td>0</td>\n",
       "      <td>1</td>\n",
       "    </tr>\n",
       "    <tr>\n",
       "      <th>3</th>\n",
       "      <td>2018-01-14</td>\n",
       "      <td>WN</td>\n",
       "      <td>WN</td>\n",
       "      <td>0.0</td>\n",
       "      <td>Jacksonville, FL</td>\n",
       "      <td>BWI</td>\n",
       "      <td>Baltimore, MD</td>\n",
       "      <td>825</td>\n",
       "      <td>817</td>\n",
       "      <td>1015</td>\n",
       "      <td>...</td>\n",
       "      <td>0</td>\n",
       "      <td>0</td>\n",
       "      <td>0</td>\n",
       "      <td>0</td>\n",
       "      <td>0</td>\n",
       "      <td>0</td>\n",
       "      <td>0</td>\n",
       "      <td>0</td>\n",
       "      <td>0</td>\n",
       "      <td>1</td>\n",
       "    </tr>\n",
       "    <tr>\n",
       "      <th>4</th>\n",
       "      <td>2018-01-04</td>\n",
       "      <td>WN</td>\n",
       "      <td>WN</td>\n",
       "      <td>0.0</td>\n",
       "      <td>Baltimore, MD</td>\n",
       "      <td>BNA</td>\n",
       "      <td>Nashville, TN</td>\n",
       "      <td>620</td>\n",
       "      <td>617</td>\n",
       "      <td>725</td>\n",
       "      <td>...</td>\n",
       "      <td>0</td>\n",
       "      <td>0</td>\n",
       "      <td>0</td>\n",
       "      <td>0</td>\n",
       "      <td>0</td>\n",
       "      <td>0</td>\n",
       "      <td>0</td>\n",
       "      <td>0</td>\n",
       "      <td>0</td>\n",
       "      <td>1</td>\n",
       "    </tr>\n",
       "  </tbody>\n",
       "</table>\n",
       "<p>5 rows × 27 columns</p>\n",
       "</div>"
      ],
      "text/plain": [
       "     fl_date mkt_unique_carrier op_unique_carrier  origin  origin_city_name  \\\n",
       "0 2018-01-28                 WN                WN     0.0     Santa Ana, CA   \n",
       "1 2018-01-08                 AA                YV     0.0   Chattanooga, TN   \n",
       "2 2018-01-20                 WN                WN    69.8        Denver, CO   \n",
       "3 2018-01-14                 WN                WN     0.0  Jacksonville, FL   \n",
       "4 2018-01-04                 WN                WN     0.0     Baltimore, MD   \n",
       "\n",
       "  dest         dest_city_name  crs_dep_time  dep_time  crs_arr_time  ...  AS  \\\n",
       "0  SJC           San Jose, CA          1615      1614          1735  ...   0   \n",
       "1  DFW  Dallas/Fort Worth, TX          1635      1632          1753  ...   0   \n",
       "2  SEA            Seattle, WA          2035      2029          2235  ...   0   \n",
       "3  BWI          Baltimore, MD           825       817          1015  ...   0   \n",
       "4  BNA          Nashville, TN           620       617           725  ...   0   \n",
       "\n",
       "   B6  DL  F9  G4  HA  NK  UA  VX  WN  \n",
       "0   0   0   0   0   0   0   0   0   1  \n",
       "1   0   0   0   0   0   0   0   0   0  \n",
       "2   0   0   0   0   0   0   0   0   1  \n",
       "3   0   0   0   0   0   0   0   0   1  \n",
       "4   0   0   0   0   0   0   0   0   1  \n",
       "\n",
       "[5 rows x 27 columns]"
      ]
     },
     "execution_count": 10,
     "metadata": {},
     "output_type": "execute_result"
    }
   ],
   "source": [
    "# Creating dummy variables\n",
    "mktCarrierDummies = pd.get_dummies(testData['mkt_unique_carrier'])\n",
    "testData = pd.concat([testData, mktCarrierDummies], axis=1)\n",
    "testData.head()"
   ]
  },
  {
   "cell_type": "markdown",
   "metadata": {},
   "source": [
    "#### Use these dummy variables (op_unique_carrier):"
   ]
  },
  {
   "cell_type": "code",
   "execution_count": 10,
   "metadata": {},
   "outputs": [
    {
     "data": {
      "text/html": [
       "<div>\n",
       "<style scoped>\n",
       "    .dataframe tbody tr th:only-of-type {\n",
       "        vertical-align: middle;\n",
       "    }\n",
       "\n",
       "    .dataframe tbody tr th {\n",
       "        vertical-align: top;\n",
       "    }\n",
       "\n",
       "    .dataframe thead th {\n",
       "        text-align: right;\n",
       "    }\n",
       "</style>\n",
       "<table border=\"1\" class=\"dataframe\">\n",
       "  <thead>\n",
       "    <tr style=\"text-align: right;\">\n",
       "      <th></th>\n",
       "      <th>fl_date</th>\n",
       "      <th>mkt_unique_carrier</th>\n",
       "      <th>op_unique_carrier</th>\n",
       "      <th>origin</th>\n",
       "      <th>origin_city_name</th>\n",
       "      <th>dest</th>\n",
       "      <th>dest_city_name</th>\n",
       "      <th>crs_dep_time</th>\n",
       "      <th>dep_time</th>\n",
       "      <th>crs_arr_time</th>\n",
       "      <th>...</th>\n",
       "      <th>OH</th>\n",
       "      <th>OO</th>\n",
       "      <th>PT</th>\n",
       "      <th>QX</th>\n",
       "      <th>UA</th>\n",
       "      <th>VX</th>\n",
       "      <th>WN</th>\n",
       "      <th>YV</th>\n",
       "      <th>YX</th>\n",
       "      <th>ZW</th>\n",
       "    </tr>\n",
       "  </thead>\n",
       "  <tbody>\n",
       "    <tr>\n",
       "      <th>0</th>\n",
       "      <td>2018-01-28</td>\n",
       "      <td>WN</td>\n",
       "      <td>WN</td>\n",
       "      <td>0.0</td>\n",
       "      <td>Santa Ana, CA</td>\n",
       "      <td>SJC</td>\n",
       "      <td>San Jose, CA</td>\n",
       "      <td>1615</td>\n",
       "      <td>1614</td>\n",
       "      <td>1735</td>\n",
       "      <td>...</td>\n",
       "      <td>0</td>\n",
       "      <td>0</td>\n",
       "      <td>0</td>\n",
       "      <td>0</td>\n",
       "      <td>0</td>\n",
       "      <td>0</td>\n",
       "      <td>1</td>\n",
       "      <td>0</td>\n",
       "      <td>0</td>\n",
       "      <td>0</td>\n",
       "    </tr>\n",
       "    <tr>\n",
       "      <th>1</th>\n",
       "      <td>2018-01-08</td>\n",
       "      <td>AA</td>\n",
       "      <td>YV</td>\n",
       "      <td>0.0</td>\n",
       "      <td>Chattanooga, TN</td>\n",
       "      <td>DFW</td>\n",
       "      <td>Dallas/Fort Worth, TX</td>\n",
       "      <td>1635</td>\n",
       "      <td>1632</td>\n",
       "      <td>1753</td>\n",
       "      <td>...</td>\n",
       "      <td>0</td>\n",
       "      <td>0</td>\n",
       "      <td>0</td>\n",
       "      <td>0</td>\n",
       "      <td>0</td>\n",
       "      <td>0</td>\n",
       "      <td>0</td>\n",
       "      <td>1</td>\n",
       "      <td>0</td>\n",
       "      <td>0</td>\n",
       "    </tr>\n",
       "    <tr>\n",
       "      <th>2</th>\n",
       "      <td>2018-01-20</td>\n",
       "      <td>WN</td>\n",
       "      <td>WN</td>\n",
       "      <td>69.8</td>\n",
       "      <td>Denver, CO</td>\n",
       "      <td>SEA</td>\n",
       "      <td>Seattle, WA</td>\n",
       "      <td>2035</td>\n",
       "      <td>2029</td>\n",
       "      <td>2235</td>\n",
       "      <td>...</td>\n",
       "      <td>0</td>\n",
       "      <td>0</td>\n",
       "      <td>0</td>\n",
       "      <td>0</td>\n",
       "      <td>0</td>\n",
       "      <td>0</td>\n",
       "      <td>1</td>\n",
       "      <td>0</td>\n",
       "      <td>0</td>\n",
       "      <td>0</td>\n",
       "    </tr>\n",
       "    <tr>\n",
       "      <th>3</th>\n",
       "      <td>2018-01-14</td>\n",
       "      <td>WN</td>\n",
       "      <td>WN</td>\n",
       "      <td>0.0</td>\n",
       "      <td>Jacksonville, FL</td>\n",
       "      <td>BWI</td>\n",
       "      <td>Baltimore, MD</td>\n",
       "      <td>825</td>\n",
       "      <td>817</td>\n",
       "      <td>1015</td>\n",
       "      <td>...</td>\n",
       "      <td>0</td>\n",
       "      <td>0</td>\n",
       "      <td>0</td>\n",
       "      <td>0</td>\n",
       "      <td>0</td>\n",
       "      <td>0</td>\n",
       "      <td>1</td>\n",
       "      <td>0</td>\n",
       "      <td>0</td>\n",
       "      <td>0</td>\n",
       "    </tr>\n",
       "    <tr>\n",
       "      <th>4</th>\n",
       "      <td>2018-01-04</td>\n",
       "      <td>WN</td>\n",
       "      <td>WN</td>\n",
       "      <td>0.0</td>\n",
       "      <td>Baltimore, MD</td>\n",
       "      <td>BNA</td>\n",
       "      <td>Nashville, TN</td>\n",
       "      <td>620</td>\n",
       "      <td>617</td>\n",
       "      <td>725</td>\n",
       "      <td>...</td>\n",
       "      <td>0</td>\n",
       "      <td>0</td>\n",
       "      <td>0</td>\n",
       "      <td>0</td>\n",
       "      <td>0</td>\n",
       "      <td>0</td>\n",
       "      <td>1</td>\n",
       "      <td>0</td>\n",
       "      <td>0</td>\n",
       "      <td>0</td>\n",
       "    </tr>\n",
       "  </tbody>\n",
       "</table>\n",
       "<p>5 rows × 43 columns</p>\n",
       "</div>"
      ],
      "text/plain": [
       "     fl_date mkt_unique_carrier op_unique_carrier  origin  origin_city_name  \\\n",
       "0 2018-01-28                 WN                WN     0.0     Santa Ana, CA   \n",
       "1 2018-01-08                 AA                YV     0.0   Chattanooga, TN   \n",
       "2 2018-01-20                 WN                WN    69.8        Denver, CO   \n",
       "3 2018-01-14                 WN                WN     0.0  Jacksonville, FL   \n",
       "4 2018-01-04                 WN                WN     0.0     Baltimore, MD   \n",
       "\n",
       "  dest         dest_city_name  crs_dep_time  dep_time  crs_arr_time  ...  OH  \\\n",
       "0  SJC           San Jose, CA          1615      1614          1735  ...   0   \n",
       "1  DFW  Dallas/Fort Worth, TX          1635      1632          1753  ...   0   \n",
       "2  SEA            Seattle, WA          2035      2029          2235  ...   0   \n",
       "3  BWI          Baltimore, MD           825       817          1015  ...   0   \n",
       "4  BNA          Nashville, TN           620       617           725  ...   0   \n",
       "\n",
       "   OO  PT  QX  UA  VX  WN  YV  YX  ZW  \n",
       "0   0   0   0   0   0   1   0   0   0  \n",
       "1   0   0   0   0   0   0   1   0   0  \n",
       "2   0   0   0   0   0   1   0   0   0  \n",
       "3   0   0   0   0   0   1   0   0   0  \n",
       "4   0   0   0   0   0   1   0   0   0  \n",
       "\n",
       "[5 rows x 43 columns]"
      ]
     },
     "execution_count": 10,
     "metadata": {},
     "output_type": "execute_result"
    }
   ],
   "source": [
    "opCarrierDummies = pd.get_dummies(testData['op_unique_carrier'])\n",
    "testData = pd.concat([testData, opCarrierDummies], axis=1)\n",
    "testData.head()"
   ]
  },
  {
   "cell_type": "markdown",
   "metadata": {},
   "source": [
    "#### Assign x & y:"
   ]
  },
  {
   "cell_type": "code",
   "execution_count": 11,
   "metadata": {},
   "outputs": [],
   "source": [
    "y = testData['arr_delay'].values.reshape(-1,1)\n",
    "X = testData.drop(columns = ['fl_date', 'mkt_unique_carrier','op_unique_carrier','arr_delay','origin_city_name','dest','dest_city_name','crs_arr_time', 'arr_time', 'taxi_out', 'taxi_in'])"
   ]
  },
  {
   "cell_type": "markdown",
   "metadata": {},
   "source": [
    "#### *Decide if want to square distance:*"
   ]
  },
  {
   "cell_type": "code",
   "execution_count": 12,
   "metadata": {},
   "outputs": [],
   "source": [
    "X['distanceSQ'] = X['distance']**2"
   ]
  },
  {
   "cell_type": "code",
   "execution_count": 16,
   "metadata": {},
   "outputs": [
    {
     "data": {
      "text/html": [
       "<div>\n",
       "<style scoped>\n",
       "    .dataframe tbody tr th:only-of-type {\n",
       "        vertical-align: middle;\n",
       "    }\n",
       "\n",
       "    .dataframe tbody tr th {\n",
       "        vertical-align: top;\n",
       "    }\n",
       "\n",
       "    .dataframe thead th {\n",
       "        text-align: right;\n",
       "    }\n",
       "</style>\n",
       "<table border=\"1\" class=\"dataframe\">\n",
       "  <thead>\n",
       "    <tr style=\"text-align: right;\">\n",
       "      <th></th>\n",
       "      <th>origin</th>\n",
       "      <th>crs_dep_time</th>\n",
       "      <th>dep_time</th>\n",
       "      <th>distance</th>\n",
       "      <th>month</th>\n",
       "      <th>AA</th>\n",
       "      <th>AS</th>\n",
       "      <th>B6</th>\n",
       "      <th>DL</th>\n",
       "      <th>F9</th>\n",
       "      <th>G4</th>\n",
       "      <th>HA</th>\n",
       "      <th>NK</th>\n",
       "      <th>UA</th>\n",
       "      <th>VX</th>\n",
       "      <th>WN</th>\n",
       "      <th>distanceSQ</th>\n",
       "    </tr>\n",
       "  </thead>\n",
       "  <tbody>\n",
       "    <tr>\n",
       "      <th>0</th>\n",
       "      <td>0.0</td>\n",
       "      <td>1615</td>\n",
       "      <td>1614</td>\n",
       "      <td>342</td>\n",
       "      <td>1</td>\n",
       "      <td>0</td>\n",
       "      <td>0</td>\n",
       "      <td>0</td>\n",
       "      <td>0</td>\n",
       "      <td>0</td>\n",
       "      <td>0</td>\n",
       "      <td>0</td>\n",
       "      <td>0</td>\n",
       "      <td>0</td>\n",
       "      <td>0</td>\n",
       "      <td>1</td>\n",
       "      <td>116964</td>\n",
       "    </tr>\n",
       "    <tr>\n",
       "      <th>1</th>\n",
       "      <td>0.0</td>\n",
       "      <td>1635</td>\n",
       "      <td>1632</td>\n",
       "      <td>695</td>\n",
       "      <td>1</td>\n",
       "      <td>1</td>\n",
       "      <td>0</td>\n",
       "      <td>0</td>\n",
       "      <td>0</td>\n",
       "      <td>0</td>\n",
       "      <td>0</td>\n",
       "      <td>0</td>\n",
       "      <td>0</td>\n",
       "      <td>0</td>\n",
       "      <td>0</td>\n",
       "      <td>0</td>\n",
       "      <td>483025</td>\n",
       "    </tr>\n",
       "    <tr>\n",
       "      <th>2</th>\n",
       "      <td>69.8</td>\n",
       "      <td>2035</td>\n",
       "      <td>2029</td>\n",
       "      <td>1024</td>\n",
       "      <td>1</td>\n",
       "      <td>0</td>\n",
       "      <td>0</td>\n",
       "      <td>0</td>\n",
       "      <td>0</td>\n",
       "      <td>0</td>\n",
       "      <td>0</td>\n",
       "      <td>0</td>\n",
       "      <td>0</td>\n",
       "      <td>0</td>\n",
       "      <td>0</td>\n",
       "      <td>1</td>\n",
       "      <td>1048576</td>\n",
       "    </tr>\n",
       "    <tr>\n",
       "      <th>3</th>\n",
       "      <td>0.0</td>\n",
       "      <td>825</td>\n",
       "      <td>817</td>\n",
       "      <td>663</td>\n",
       "      <td>1</td>\n",
       "      <td>0</td>\n",
       "      <td>0</td>\n",
       "      <td>0</td>\n",
       "      <td>0</td>\n",
       "      <td>0</td>\n",
       "      <td>0</td>\n",
       "      <td>0</td>\n",
       "      <td>0</td>\n",
       "      <td>0</td>\n",
       "      <td>0</td>\n",
       "      <td>1</td>\n",
       "      <td>439569</td>\n",
       "    </tr>\n",
       "    <tr>\n",
       "      <th>4</th>\n",
       "      <td>0.0</td>\n",
       "      <td>620</td>\n",
       "      <td>617</td>\n",
       "      <td>587</td>\n",
       "      <td>1</td>\n",
       "      <td>0</td>\n",
       "      <td>0</td>\n",
       "      <td>0</td>\n",
       "      <td>0</td>\n",
       "      <td>0</td>\n",
       "      <td>0</td>\n",
       "      <td>0</td>\n",
       "      <td>0</td>\n",
       "      <td>0</td>\n",
       "      <td>0</td>\n",
       "      <td>1</td>\n",
       "      <td>344569</td>\n",
       "    </tr>\n",
       "  </tbody>\n",
       "</table>\n",
       "</div>"
      ],
      "text/plain": [
       "   origin  crs_dep_time  dep_time  distance  month  AA  AS  B6  DL  F9  G4  \\\n",
       "0     0.0          1615      1614       342      1   0   0   0   0   0   0   \n",
       "1     0.0          1635      1632       695      1   1   0   0   0   0   0   \n",
       "2    69.8          2035      2029      1024      1   0   0   0   0   0   0   \n",
       "3     0.0           825       817       663      1   0   0   0   0   0   0   \n",
       "4     0.0           620       617       587      1   0   0   0   0   0   0   \n",
       "\n",
       "   HA  NK  UA  VX  WN  distanceSQ  \n",
       "0   0   0   0   0   1      116964  \n",
       "1   0   0   0   0   0      483025  \n",
       "2   0   0   0   0   1     1048576  \n",
       "3   0   0   0   0   1      439569  \n",
       "4   0   0   0   0   1      344569  "
      ]
     },
     "execution_count": 16,
     "metadata": {},
     "output_type": "execute_result"
    }
   ],
   "source": [
    "X.head()"
   ]
  },
  {
   "cell_type": "markdown",
   "metadata": {},
   "source": [
    "##### *Test / Train Split --- SCALED*"
   ]
  },
  {
   "cell_type": "code",
   "execution_count": 22,
   "metadata": {},
   "outputs": [],
   "source": [
    "X = sm.add_constant(X)\n",
    "XScaled = scaler.fit_transform(X)\n",
    "yScaled = scaler.fit_transform(y)\n",
    "X_train, X_test, y_train, y_test = train_test_split(XScaled, yScaled, train_size = 0.75, random_state=5)"
   ]
  },
  {
   "cell_type": "markdown",
   "metadata": {},
   "source": [
    "##### *Test / Train Split --- NOT SCALED*"
   ]
  },
  {
   "cell_type": "code",
   "execution_count": 17,
   "metadata": {},
   "outputs": [],
   "source": [
    "X = sm.add_constant(X)\n",
    "X_train, X_test, y_train, y_test = train_test_split(X, y, train_size = 0.75, random_state=5)"
   ]
  },
  {
   "cell_type": "markdown",
   "metadata": {},
   "source": [
    "### **Linear Regression**"
   ]
  },
  {
   "cell_type": "code",
   "execution_count": 14,
   "metadata": {},
   "outputs": [
    {
     "name": "stdout",
     "output_type": "stream",
     "text": [
      "MSE:  1.110086038675174\n",
      "R^2 Score:  0.05284460220812082\n",
      "R^2 Adj-Score:  0.0401697732838987\n"
     ]
    }
   ],
   "source": [
    "linreg = LinearRegression()\n",
    "linreg.fit(X_train, y_train)\n",
    "y_pred = linreg.predict(X_test)\n",
    "print('MSE: ', mean_squared_error(y_test, y_pred))\n",
    "print('R^2 Score: ', linreg.score(X_test, y_test))\n",
    "print('R^2 Adj-Score: ', 1-(1-r2_score(y_test, y_pred))*((len(X_test)-1)/(len(X_test)-len(X_test[0])-1)))"
   ]
  },
  {
   "cell_type": "markdown",
   "metadata": {},
   "source": [
    "MSE:  1.114290146282297\n",
    "R^2 Score:  0.04925754402140903       \n",
    "R^2 Adj-Score:  0.0431311327062025"
   ]
  },
  {
   "cell_type": "markdown",
   "metadata": {},
   "source": [
    "MSE:  1.109431766962631\n",
    "R^2 Score:  0.05340284450877819\n",
    "R^2 Adj-Score:  0.04112432445376446"
   ]
  },
  {
   "cell_type": "markdown",
   "metadata": {},
   "source": [
    "MSE:  1.1099782761274246\n",
    "R^2 Score:  0.05293654812512616\n",
    "R^2 Adj-Score:  0.04026294962071797"
   ]
  },
  {
   "cell_type": "markdown",
   "metadata": {},
   "source": [
    "MSE:  1.1095590036072063\n",
    "R^2 Score:  0.053294282766257695\n",
    "R^2 Adj-Score:  0.04101435453298663"
   ]
  },
  {
   "cell_type": "markdown",
   "metadata": {},
   "source": [
    "MSE:  1.110086038675174\n",
    "R^2 Score:  0.05284460220812082\n",
    "R^2 Adj-Score:  0.0401697732838987"
   ]
  },
  {
   "cell_type": "markdown",
   "metadata": {},
   "source": [
    "### **Random Forest Regression**"
   ]
  },
  {
   "cell_type": "code",
   "execution_count": 44,
   "metadata": {},
   "outputs": [
    {
     "name": "stdout",
     "output_type": "stream",
     "text": [
      "Score:  0.8585435999393352\n"
     ]
    }
   ],
   "source": [
    "# RANDOM FOREST REGRESSOR\n",
    "from sklearn.ensemble import RandomForestRegressor\n",
    "regressor = RandomForestRegressor(n_estimators=10, random_state=1)\n",
    "regressor.fit(X_train,y_train.ravel())\n",
    "\n",
    "regressor_pred_a = regressor.predict(X_test)\n",
    "\n",
    "print('Score: ', regressor.score(X_test,y_test))"
   ]
  },
  {
   "cell_type": "markdown",
   "metadata": {},
   "source": [
    " "
   ]
  },
  {
   "cell_type": "markdown",
   "metadata": {},
   "source": [
    "### **OLS**"
   ]
  },
  {
   "cell_type": "code",
   "execution_count": null,
   "metadata": {},
   "outputs": [],
   "source": [
    "X = sm.add_constant(X)\n",
    "XScaled = scaler.fit_transform(X)\n",
    "yScaled = scaler.fit_transform(y)\n",
    "X_train, X_test, y_train, y_test = train_test_split(XScaled, yScaled, train_size = 0.75, random_state=5)\n",
    "\n",
    "model = sm.OLS(y_train,X_train)\n",
    "results = model.fit()\n",
    "predictions = results.predict(X_test)\n",
    "results.summary()"
   ]
  },
  {
   "cell_type": "code",
   "execution_count": null,
   "metadata": {},
   "outputs": [],
   "source": []
  },
  {
   "cell_type": "code",
   "execution_count": null,
   "metadata": {},
   "outputs": [],
   "source": []
  },
  {
   "cell_type": "markdown",
   "metadata": {},
   "source": [
    "#### Initial OLS modelling only for carrier - WN"
   ]
  },
  {
   "cell_type": "code",
   "execution_count": 3,
   "metadata": {},
   "outputs": [],
   "source": [
    "WN_mod_demo = pd.read_excel('initial_modelling_data_flights_WN.xlsx')"
   ]
  },
  {
   "cell_type": "code",
   "execution_count": 4,
   "metadata": {},
   "outputs": [
    {
     "data": {
      "text/html": [
       "<div>\n",
       "<style scoped>\n",
       "    .dataframe tbody tr th:only-of-type {\n",
       "        vertical-align: middle;\n",
       "    }\n",
       "\n",
       "    .dataframe tbody tr th {\n",
       "        vertical-align: top;\n",
       "    }\n",
       "\n",
       "    .dataframe thead th {\n",
       "        text-align: right;\n",
       "    }\n",
       "</style>\n",
       "<table border=\"1\" class=\"dataframe\">\n",
       "  <thead>\n",
       "    <tr style=\"text-align: right;\">\n",
       "      <th></th>\n",
       "      <th>num_flights</th>\n",
       "      <th>fl_date</th>\n",
       "      <th>carrier_delay</th>\n",
       "      <th>weather_delay</th>\n",
       "      <th>nas_delay</th>\n",
       "      <th>security_delay</th>\n",
       "      <th>late_aircraft_delay</th>\n",
       "      <th>arr_delay</th>\n",
       "    </tr>\n",
       "  </thead>\n",
       "  <tbody>\n",
       "    <tr>\n",
       "      <th>0</th>\n",
       "      <td>3737</td>\n",
       "      <td>2018-01-01</td>\n",
       "      <td>16.153038</td>\n",
       "      <td>0.940735</td>\n",
       "      <td>3.500375</td>\n",
       "      <td>0.219055</td>\n",
       "      <td>30.002251</td>\n",
       "      <td>15.501206</td>\n",
       "    </tr>\n",
       "    <tr>\n",
       "      <th>1</th>\n",
       "      <td>3860</td>\n",
       "      <td>2018-01-02</td>\n",
       "      <td>14.481061</td>\n",
       "      <td>0.208333</td>\n",
       "      <td>4.535038</td>\n",
       "      <td>1.053977</td>\n",
       "      <td>22.481061</td>\n",
       "      <td>8.382383</td>\n",
       "    </tr>\n",
       "    <tr>\n",
       "      <th>2</th>\n",
       "      <td>3738</td>\n",
       "      <td>2018-01-03</td>\n",
       "      <td>14.890866</td>\n",
       "      <td>0.275208</td>\n",
       "      <td>3.733096</td>\n",
       "      <td>0.080664</td>\n",
       "      <td>19.523132</td>\n",
       "      <td>4.794645</td>\n",
       "    </tr>\n",
       "    <tr>\n",
       "      <th>3</th>\n",
       "      <td>3415</td>\n",
       "      <td>2018-01-04</td>\n",
       "      <td>12.713978</td>\n",
       "      <td>0.408602</td>\n",
       "      <td>6.686022</td>\n",
       "      <td>0.045161</td>\n",
       "      <td>15.649462</td>\n",
       "      <td>-1.376281</td>\n",
       "    </tr>\n",
       "    <tr>\n",
       "      <th>4</th>\n",
       "      <td>3663</td>\n",
       "      <td>2018-01-05</td>\n",
       "      <td>17.513944</td>\n",
       "      <td>0.392430</td>\n",
       "      <td>7.227092</td>\n",
       "      <td>0.201195</td>\n",
       "      <td>19.892430</td>\n",
       "      <td>-0.493989</td>\n",
       "    </tr>\n",
       "  </tbody>\n",
       "</table>\n",
       "</div>"
      ],
      "text/plain": [
       "   num_flights     fl_date  carrier_delay  weather_delay  nas_delay  \\\n",
       "0         3737  2018-01-01      16.153038       0.940735   3.500375   \n",
       "1         3860  2018-01-02      14.481061       0.208333   4.535038   \n",
       "2         3738  2018-01-03      14.890866       0.275208   3.733096   \n",
       "3         3415  2018-01-04      12.713978       0.408602   6.686022   \n",
       "4         3663  2018-01-05      17.513944       0.392430   7.227092   \n",
       "\n",
       "   security_delay  late_aircraft_delay  arr_delay  \n",
       "0        0.219055            30.002251  15.501206  \n",
       "1        1.053977            22.481061   8.382383  \n",
       "2        0.080664            19.523132   4.794645  \n",
       "3        0.045161            15.649462  -1.376281  \n",
       "4        0.201195            19.892430  -0.493989  "
      ]
     },
     "execution_count": 4,
     "metadata": {},
     "output_type": "execute_result"
    }
   ],
   "source": [
    "WN_mod_demo.head()"
   ]
  },
  {
   "cell_type": "code",
   "execution_count": 5,
   "metadata": {},
   "outputs": [],
   "source": [
    "import statsmodels.api as sm"
   ]
  },
  {
   "cell_type": "code",
   "execution_count": 9,
   "metadata": {},
   "outputs": [
    {
     "data": {
      "text/plain": [
       "0      12.377115\n",
       "1       5.257207\n",
       "2       2.991269\n",
       "3      -0.856756\n",
       "4       0.967187\n",
       "         ...    \n",
       "725     4.536156\n",
       "726    12.985510\n",
       "727     8.418564\n",
       "728     4.433420\n",
       "729    -4.052307\n",
       "Length: 730, dtype: float64"
      ]
     },
     "execution_count": 9,
     "metadata": {},
     "output_type": "execute_result"
    }
   ],
   "source": [
    "X = WN_mod_demo[['num_flights','carrier_delay', 'weather_delay', 'nas_delay', 'security_delay', 'late_aircraft_delay']] \n",
    "Y = WN_mod_demo['arr_delay']\n",
    "\n",
    "X = sm.add_constant(X)\n",
    "\n",
    "model = sm.OLS(Y,X)\n",
    "results = model.fit()\n",
    "predictions = results.predict(X) \n",
    "results.params\n",
    "predictions"
   ]
  },
  {
   "cell_type": "code",
   "execution_count": 7,
   "metadata": {},
   "outputs": [
    {
     "data": {
      "text/plain": [
       "const                  -5.010784\n",
       "num_flights             1.607433\n",
       "carrier_delay          -9.523707\n",
       "weather_delay          -1.061814\n",
       "nas_delay              -4.793973\n",
       "security_delay         -3.064191\n",
       "late_aircraft_delay    31.384184\n",
       "dtype: float64"
      ]
     },
     "execution_count": 7,
     "metadata": {},
     "output_type": "execute_result"
    }
   ],
   "source": [
    "results.tvalues"
   ]
  },
  {
   "cell_type": "code",
   "execution_count": 8,
   "metadata": {},
   "outputs": [
    {
     "data": {
      "text/html": [
       "<table class=\"simpletable\">\n",
       "<caption>OLS Regression Results</caption>\n",
       "<tr>\n",
       "  <th>Dep. Variable:</th>        <td>arr_delay</td>    <th>  R-squared:         </th> <td>   0.684</td> \n",
       "</tr>\n",
       "<tr>\n",
       "  <th>Model:</th>                   <td>OLS</td>       <th>  Adj. R-squared:    </th> <td>   0.681</td> \n",
       "</tr>\n",
       "<tr>\n",
       "  <th>Method:</th>             <td>Least Squares</td>  <th>  F-statistic:       </th> <td>   261.0</td> \n",
       "</tr>\n",
       "<tr>\n",
       "  <th>Date:</th>             <td>Mon, 08 Feb 2021</td> <th>  Prob (F-statistic):</th> <td>3.75e-177</td>\n",
       "</tr>\n",
       "<tr>\n",
       "  <th>Time:</th>                 <td>14:20:04</td>     <th>  Log-Likelihood:    </th> <td> -2003.9</td> \n",
       "</tr>\n",
       "<tr>\n",
       "  <th>No. Observations:</th>      <td>   730</td>      <th>  AIC:               </th> <td>   4022.</td> \n",
       "</tr>\n",
       "<tr>\n",
       "  <th>Df Residuals:</th>          <td>   723</td>      <th>  BIC:               </th> <td>   4054.</td> \n",
       "</tr>\n",
       "<tr>\n",
       "  <th>Df Model:</th>              <td>     6</td>      <th>                     </th>     <td> </td>    \n",
       "</tr>\n",
       "<tr>\n",
       "  <th>Covariance Type:</th>      <td>nonrobust</td>    <th>                     </th>     <td> </td>    \n",
       "</tr>\n",
       "</table>\n",
       "<table class=\"simpletable\">\n",
       "<tr>\n",
       "           <td></td>              <th>coef</th>     <th>std err</th>      <th>t</th>      <th>P>|t|</th>  <th>[0.025</th>    <th>0.975]</th>  \n",
       "</tr>\n",
       "<tr>\n",
       "  <th>const</th>               <td>  -10.7193</td> <td>    2.139</td> <td>   -5.011</td> <td> 0.000</td> <td>  -14.919</td> <td>   -6.519</td>\n",
       "</tr>\n",
       "<tr>\n",
       "  <th>num_flights</th>         <td>    0.0008</td> <td>    0.000</td> <td>    1.607</td> <td> 0.108</td> <td>   -0.000</td> <td>    0.002</td>\n",
       "</tr>\n",
       "<tr>\n",
       "  <th>carrier_delay</th>       <td>   -0.4562</td> <td>    0.048</td> <td>   -9.524</td> <td> 0.000</td> <td>   -0.550</td> <td>   -0.362</td>\n",
       "</tr>\n",
       "<tr>\n",
       "  <th>weather_delay</th>       <td>   -0.1330</td> <td>    0.125</td> <td>   -1.062</td> <td> 0.289</td> <td>   -0.379</td> <td>    0.113</td>\n",
       "</tr>\n",
       "<tr>\n",
       "  <th>nas_delay</th>           <td>   -0.2947</td> <td>    0.061</td> <td>   -4.794</td> <td> 0.000</td> <td>   -0.415</td> <td>   -0.174</td>\n",
       "</tr>\n",
       "<tr>\n",
       "  <th>security_delay</th>      <td>   -0.6496</td> <td>    0.212</td> <td>   -3.064</td> <td> 0.002</td> <td>   -1.066</td> <td>   -0.233</td>\n",
       "</tr>\n",
       "<tr>\n",
       "  <th>late_aircraft_delay</th> <td>    0.9612</td> <td>    0.031</td> <td>   31.384</td> <td> 0.000</td> <td>    0.901</td> <td>    1.021</td>\n",
       "</tr>\n",
       "</table>\n",
       "<table class=\"simpletable\">\n",
       "<tr>\n",
       "  <th>Omnibus:</th>       <td>29.674</td> <th>  Durbin-Watson:     </th> <td>   1.149</td>\n",
       "</tr>\n",
       "<tr>\n",
       "  <th>Prob(Omnibus):</th> <td> 0.000</td> <th>  Jarque-Bera (JB):  </th> <td>  47.475</td>\n",
       "</tr>\n",
       "<tr>\n",
       "  <th>Skew:</th>          <td> 0.324</td> <th>  Prob(JB):          </th> <td>4.91e-11</td>\n",
       "</tr>\n",
       "<tr>\n",
       "  <th>Kurtosis:</th>      <td> 4.069</td> <th>  Cond. No.          </th> <td>5.70e+04</td>\n",
       "</tr>\n",
       "</table><br/><br/>Warnings:<br/>[1] Standard Errors assume that the covariance matrix of the errors is correctly specified.<br/>[2] The condition number is large, 5.7e+04. This might indicate that there are<br/>strong multicollinearity or other numerical problems."
      ],
      "text/plain": [
       "<class 'statsmodels.iolib.summary.Summary'>\n",
       "\"\"\"\n",
       "                            OLS Regression Results                            \n",
       "==============================================================================\n",
       "Dep. Variable:              arr_delay   R-squared:                       0.684\n",
       "Model:                            OLS   Adj. R-squared:                  0.681\n",
       "Method:                 Least Squares   F-statistic:                     261.0\n",
       "Date:                Mon, 08 Feb 2021   Prob (F-statistic):          3.75e-177\n",
       "Time:                        14:20:04   Log-Likelihood:                -2003.9\n",
       "No. Observations:                 730   AIC:                             4022.\n",
       "Df Residuals:                     723   BIC:                             4054.\n",
       "Df Model:                           6                                         \n",
       "Covariance Type:            nonrobust                                         \n",
       "=======================================================================================\n",
       "                          coef    std err          t      P>|t|      [0.025      0.975]\n",
       "---------------------------------------------------------------------------------------\n",
       "const                 -10.7193      2.139     -5.011      0.000     -14.919      -6.519\n",
       "num_flights             0.0008      0.000      1.607      0.108      -0.000       0.002\n",
       "carrier_delay          -0.4562      0.048     -9.524      0.000      -0.550      -0.362\n",
       "weather_delay          -0.1330      0.125     -1.062      0.289      -0.379       0.113\n",
       "nas_delay              -0.2947      0.061     -4.794      0.000      -0.415      -0.174\n",
       "security_delay         -0.6496      0.212     -3.064      0.002      -1.066      -0.233\n",
       "late_aircraft_delay     0.9612      0.031     31.384      0.000       0.901       1.021\n",
       "==============================================================================\n",
       "Omnibus:                       29.674   Durbin-Watson:                   1.149\n",
       "Prob(Omnibus):                  0.000   Jarque-Bera (JB):               47.475\n",
       "Skew:                           0.324   Prob(JB):                     4.91e-11\n",
       "Kurtosis:                       4.069   Cond. No.                     5.70e+04\n",
       "==============================================================================\n",
       "\n",
       "Warnings:\n",
       "[1] Standard Errors assume that the covariance matrix of the errors is correctly specified.\n",
       "[2] The condition number is large, 5.7e+04. This might indicate that there are\n",
       "strong multicollinearity or other numerical problems.\n",
       "\"\"\""
      ]
     },
     "execution_count": 8,
     "metadata": {},
     "output_type": "execute_result"
    }
   ],
   "source": [
    "results.summary()"
   ]
  },
  {
   "cell_type": "code",
   "execution_count": 7,
   "metadata": {},
   "outputs": [],
   "source": [
    "# Converting 'object' dtype to 'category' dtype\n",
    "testData2019['mkt_unique_carrier'] = testData2019['mkt_unique_carrier'].astype('category')\n",
    "testData2019['op_unique_carrier'] = testData2019['op_unique_carrier'].astype('category')\n",
    "testData2019['origin'] = testData2019['origin'].astype('category')"
   ]
  },
  {
   "cell_type": "code",
   "execution_count": null,
   "metadata": {},
   "outputs": [],
   "source": []
  },
  {
   "cell_type": "code",
   "execution_count": null,
   "metadata": {},
   "outputs": [],
   "source": []
  },
  {
   "cell_type": "code",
   "execution_count": null,
   "metadata": {},
   "outputs": [],
   "source": []
  }
 ],
 "metadata": {
  "kernelspec": {
   "display_name": "Python 3",
   "language": "python",
   "name": "python3"
  },
  "language_info": {
   "codemirror_mode": {
    "name": "ipython",
    "version": 3
   },
   "file_extension": ".py",
   "mimetype": "text/x-python",
   "name": "python",
   "nbconvert_exporter": "python",
   "pygments_lexer": "ipython3",
   "version": "3.7.7"
  }
 },
 "nbformat": 4,
 "nbformat_minor": 4
}
