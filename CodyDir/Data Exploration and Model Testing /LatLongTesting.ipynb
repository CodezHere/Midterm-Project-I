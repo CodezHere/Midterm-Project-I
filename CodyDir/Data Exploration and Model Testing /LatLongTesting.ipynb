{
 "cells": [
  {
   "cell_type": "code",
   "execution_count": 1,
   "id": "solid-eleven",
   "metadata": {},
   "outputs": [],
   "source": [
    "import pandas as pd\n",
    "import numpy as np\n",
    "from geopy.geocoders import Nominatim\n",
    "geolocator = Nominatim(user_agent=\"Airport_Locator\")"
   ]
  },
  {
   "cell_type": "code",
   "execution_count": 50,
   "id": "undefined-smile",
   "metadata": {},
   "outputs": [],
   "source": [
    "trainData = pd.read_csv('Datacsv/New_trainData.csv')\n",
    "avg_delay = pd.read_csv('Datacsv/Avg_Arr_Dep_Delay.csv')"
   ]
  },
  {
   "cell_type": "code",
   "execution_count": 12,
   "id": "greater-emerald",
   "metadata": {},
   "outputs": [],
   "source": [
    "truncTrain = trainData.head(50)"
   ]
  },
  {
   "cell_type": "code",
   "execution_count": 13,
   "id": "looking-model",
   "metadata": {},
   "outputs": [
    {
     "data": {
      "text/html": [
       "<div>\n",
       "<style scoped>\n",
       "    .dataframe tbody tr th:only-of-type {\n",
       "        vertical-align: middle;\n",
       "    }\n",
       "\n",
       "    .dataframe tbody tr th {\n",
       "        vertical-align: top;\n",
       "    }\n",
       "\n",
       "    .dataframe thead th {\n",
       "        text-align: right;\n",
       "    }\n",
       "</style>\n",
       "<table border=\"1\" class=\"dataframe\">\n",
       "  <thead>\n",
       "    <tr style=\"text-align: right;\">\n",
       "      <th></th>\n",
       "      <th>fl_date</th>\n",
       "      <th>mkt_unique_carrier</th>\n",
       "      <th>op_unique_carrier</th>\n",
       "      <th>origin</th>\n",
       "      <th>origin_city_name</th>\n",
       "      <th>dest</th>\n",
       "      <th>dest_city_name</th>\n",
       "      <th>crs_dep_time</th>\n",
       "      <th>dep_time</th>\n",
       "      <th>crs_arr_time</th>\n",
       "      <th>arr_time</th>\n",
       "      <th>taxi_out</th>\n",
       "      <th>taxi_in</th>\n",
       "      <th>distance</th>\n",
       "      <th>arr_delay</th>\n",
       "    </tr>\n",
       "  </thead>\n",
       "  <tbody>\n",
       "    <tr>\n",
       "      <th>0</th>\n",
       "      <td>2018-02-03</td>\n",
       "      <td>AS</td>\n",
       "      <td>AS</td>\n",
       "      <td>SEA</td>\n",
       "      <td>Seattle, WA</td>\n",
       "      <td>KOA</td>\n",
       "      <td>Kona, HI</td>\n",
       "      <td>1740</td>\n",
       "      <td>1734</td>\n",
       "      <td>2223</td>\n",
       "      <td>2155</td>\n",
       "      <td>17.0</td>\n",
       "      <td>5.0</td>\n",
       "      <td>2688</td>\n",
       "      <td>-28</td>\n",
       "    </tr>\n",
       "    <tr>\n",
       "      <th>1</th>\n",
       "      <td>2018-06-09</td>\n",
       "      <td>WN</td>\n",
       "      <td>WN</td>\n",
       "      <td>SAT</td>\n",
       "      <td>San Antonio, TX</td>\n",
       "      <td>LAS</td>\n",
       "      <td>Las Vegas, NV</td>\n",
       "      <td>1610</td>\n",
       "      <td>1614</td>\n",
       "      <td>1655</td>\n",
       "      <td>1648</td>\n",
       "      <td>6.0</td>\n",
       "      <td>4.0</td>\n",
       "      <td>1069</td>\n",
       "      <td>-7</td>\n",
       "    </tr>\n",
       "  </tbody>\n",
       "</table>\n",
       "</div>"
      ],
      "text/plain": [
       "      fl_date mkt_unique_carrier op_unique_carrier origin origin_city_name  \\\n",
       "0  2018-02-03                 AS                AS    SEA      Seattle, WA   \n",
       "1  2018-06-09                 WN                WN    SAT  San Antonio, TX   \n",
       "\n",
       "  dest dest_city_name  crs_dep_time  dep_time  crs_arr_time  arr_time  \\\n",
       "0  KOA       Kona, HI          1740      1734          2223      2155   \n",
       "1  LAS  Las Vegas, NV          1610      1614          1655      1648   \n",
       "\n",
       "   taxi_out  taxi_in  distance  arr_delay  \n",
       "0      17.0      5.0      2688        -28  \n",
       "1       6.0      4.0      1069         -7  "
      ]
     },
     "execution_count": 13,
     "metadata": {},
     "output_type": "execute_result"
    }
   ],
   "source": [
    "truncTrain.head(2)"
   ]
  },
  {
   "cell_type": "code",
   "execution_count": 19,
   "id": "deadly-router",
   "metadata": {},
   "outputs": [
    {
     "data": {
      "text/plain": [
       "47.6038321"
      ]
     },
     "execution_count": 19,
     "metadata": {},
     "output_type": "execute_result"
    }
   ],
   "source": [
    "geolocator.geocode(truncTrain['origin_city_name'][0]).latitude"
   ]
  },
  {
   "cell_type": "code",
   "execution_count": 20,
   "id": "solar-architect",
   "metadata": {
    "scrolled": true
   },
   "outputs": [
    {
     "name": "stdout",
     "output_type": "stream",
     "text": [
      "47.6038321\n",
      "29.4246002\n",
      "35.2272086\n",
      "26.1223084\n",
      "41.5051613\n",
      "41.8755616\n",
      "29.6519684\n",
      "29.9499323\n",
      "36.1672559\n",
      "40.7127281\n",
      "5.3428475\n",
      "41.8755616\n",
      "36.1622296\n",
      "5.3428475\n",
      "32.7476308\n",
      "32.7174202\n",
      "38.6529545\n",
      "41.8755616\n",
      "33.4484367\n",
      "29.7589382\n",
      "25.7741728\n",
      "41.8755616\n",
      "40.7127281\n",
      "40.7127281\n",
      "45.552789\n",
      "34.0536909\n",
      "33.7489924\n",
      "35.4729886\n",
      "47.6038321\n",
      "45.5202471\n",
      "35.2272086\n",
      "18.4274359\n",
      "39.9164009\n",
      "41.8755616\n",
      "40.7596198\n",
      "44.9772995\n",
      "48.23251\n",
      "38.8949924\n",
      "41.8755616\n",
      "35.9217839\n",
      "42.3602534\n",
      "33.7489924\n",
      "42.8867166\n",
      "38.8949924\n",
      "32.7762719\n",
      "35.2272086\n",
      "28.5421109\n",
      "34.0536909\n",
      "36.1672559\n",
      "25.7741728\n"
     ]
    }
   ],
   "source": [
    "for i in range(len(truncTrain['origin_city_name'])):\n",
    "    print(geolocator.geocode(truncTrain['origin_city_name'][i]).latitude)"
   ]
  },
  {
   "cell_type": "code",
   "execution_count": 42,
   "id": "specified-liberal",
   "metadata": {},
   "outputs": [
    {
     "data": {
      "text/plain": [
       "{'Seattle, WA': -122.3300624,\n",
       " 'San Antonio, TX': -98.4951405,\n",
       " 'Charlotte, NC': -80.8430827,\n",
       " 'Fort Lauderdale, FL': -80.1433786,\n",
       " 'Cleveland, OH': -81.6934446,\n",
       " 'Chicago, IL': -87.6244212,\n",
       " 'Gainesville, FL': -82.3249846,\n",
       " 'New Orleans, LA': -90.0701156,\n",
       " 'Las Vegas, NV': -115.1485163,\n",
       " 'New York, NY': -74.0060152,\n",
       " 'Denver, CO': -72.3959849,\n",
       " 'Nashville, TN': -86.7743531,\n",
       " 'Dallas/Fort Worth, TX': -97.3135971,\n",
       " 'San Diego, CA': -117.1627728,\n",
       " 'St. Louis, MO': -90.24111656024635,\n",
       " 'Phoenix, AZ': -112.0741417,\n",
       " 'Houston, TX': -95.3676974,\n",
       " 'Miami, FL': -80.19362,\n",
       " 'Pellston, MI': -84.783936,\n",
       " 'Los Angeles, CA': -118.242766,\n",
       " 'Atlanta, GA': -84.3902644,\n",
       " 'Oklahoma City, OK': -97.5170536,\n",
       " 'Portland, OR': -122.6741949,\n",
       " 'Aguadilla, PR': -67.1541343,\n",
       " 'Indianapolis, IN': -86.0519568269157}"
      ]
     },
     "execution_count": 42,
     "metadata": {},
     "output_type": "execute_result"
    }
   ],
   "source": [
    "longitude"
   ]
  },
  {
   "cell_type": "code",
   "execution_count": 41,
   "id": "about-parker",
   "metadata": {},
   "outputs": [
    {
     "data": {
      "text/plain": [
       "{'Seattle, WA': 47.6038321,\n",
       " 'San Antonio, TX': 29.4246002,\n",
       " 'Charlotte, NC': 35.2272086,\n",
       " 'Fort Lauderdale, FL': 26.1223084,\n",
       " 'Cleveland, OH': 41.5051613,\n",
       " 'Chicago, IL': 41.8755616,\n",
       " 'Gainesville, FL': 29.6519684,\n",
       " 'New Orleans, LA': 29.9499323,\n",
       " 'Las Vegas, NV': 36.1672559,\n",
       " 'New York, NY': 40.7127281,\n",
       " 'Denver, CO': 5.3428475,\n",
       " 'Nashville, TN': 36.1622296,\n",
       " 'Dallas/Fort Worth, TX': 32.7476308,\n",
       " 'San Diego, CA': 32.7174202,\n",
       " 'St. Louis, MO': 38.6529545,\n",
       " 'Phoenix, AZ': 33.4484367,\n",
       " 'Houston, TX': 29.7589382,\n",
       " 'Miami, FL': 25.7741728,\n",
       " 'Pellston, MI': 45.552789,\n",
       " 'Los Angeles, CA': 34.0536909,\n",
       " 'Atlanta, GA': 33.7489924,\n",
       " 'Oklahoma City, OK': 35.4729886,\n",
       " 'Portland, OR': 45.5202471,\n",
       " 'Aguadilla, PR': 18.4274359,\n",
       " 'Indianapolis, IN': 39.9164009}"
      ]
     },
     "execution_count": 41,
     "metadata": {},
     "output_type": "execute_result"
    }
   ],
   "source": [
    "latitude"
   ]
  },
  {
   "cell_type": "code",
   "execution_count": 49,
   "id": "human-seafood",
   "metadata": {},
   "outputs": [
    {
     "data": {
      "text/plain": [
       "365"
      ]
     },
     "execution_count": 49,
     "metadata": {},
     "output_type": "execute_result"
    }
   ],
   "source": [
    "trainData['dest_city_name'].nunique()"
   ]
  },
  {
   "cell_type": "code",
   "execution_count": null,
   "id": "strong-mainland",
   "metadata": {},
   "outputs": [],
   "source": []
  },
  {
   "cell_type": "code",
   "execution_count": 34,
   "id": "waiting-measurement",
   "metadata": {},
   "outputs": [
    {
     "data": {
      "text/plain": [
       "range(0, 34)"
      ]
     },
     "execution_count": 34,
     "metadata": {},
     "output_type": "execute_result"
    }
   ],
   "source": [
    "range(len(truncTrain['origin_city_name'].unique()))"
   ]
  },
  {
   "cell_type": "code",
   "execution_count": 17,
   "id": "preceding-screen",
   "metadata": {},
   "outputs": [
    {
     "name": "stdout",
     "output_type": "stream",
     "text": [
      "{'Seattle, WA': 47.6038321, 'San Antonio, TX': 29.4246002, 'Charlotte, NC': 35.2272086, 'Fort Lauderdale, FL': 26.1223084, 'Cleveland, OH': 41.5051613, 'Chicago, IL': 41.8755616, 'Gainesville, FL': 29.6519684, 'New Orleans, LA': 29.9499323, 'Las Vegas, NV': 36.1672559, 'New York, NY': 40.7127281, 'Denver, CO': 5.3428475, 'Nashville, TN': 36.1622296, 'Dallas/Fort Worth, TX': 32.7476308, 'San Diego, CA': 32.7174202, 'St. Louis, MO': 38.6529545, 'Phoenix, AZ': 33.4484367, 'Houston, TX': 29.7589382, 'Miami, FL': 25.7741728, 'Pellston, MI': 45.552789, 'Los Angeles, CA': 34.0536909, 'Atlanta, GA': 33.7489924, 'Oklahoma City, OK': 35.4729886, 'Portland, OR': 45.5202471, 'Aguadilla, PR': 18.4274359, 'Indianapolis, IN': 39.9164009}\n",
      "{'Seattle, WA': -122.3300624, 'San Antonio, TX': -98.4951405, 'Charlotte, NC': -80.8430827, 'Fort Lauderdale, FL': -80.1433786, 'Cleveland, OH': -81.6934446, 'Chicago, IL': -87.6244212, 'Gainesville, FL': -82.3249846, 'New Orleans, LA': -90.0701156, 'Las Vegas, NV': -115.1485163, 'New York, NY': -74.0060152, 'Denver, CO': -72.3959849, 'Nashville, TN': -86.7743531, 'Dallas/Fort Worth, TX': -97.3135971, 'San Diego, CA': -117.1627728, 'St. Louis, MO': -90.24111656024635, 'Phoenix, AZ': -112.0741417, 'Houston, TX': -95.3676974, 'Miami, FL': -80.19362, 'Pellston, MI': -84.783936, 'Los Angeles, CA': -118.242766, 'Atlanta, GA': -84.3902644, 'Oklahoma City, OK': -97.5170536, 'Portland, OR': -122.6741949, 'Aguadilla, PR': -67.1541343, 'Indianapolis, IN': -86.0519568269157}\n"
     ]
    }
   ],
   "source": [
    "latitude = dict()\n",
    "longitude = dict()\n",
    "for i in range(len(truncTrain['origin_city_name'].unique())):\n",
    "    latitude[truncTrain['origin_city_name'][i]] = geolocator.geocode(truncTrain['origin_city_name'][i]).latitude\n",
    "    longitude[truncTrain['origin_city_name'][i]] = geolocator.geocode(truncTrain['origin_city_name'][i]).longitude\n",
    "print(latitude)\n",
    "print(longitude)"
   ]
  },
  {
   "cell_type": "code",
   "execution_count": 27,
   "id": "devoted-principal",
   "metadata": {},
   "outputs": [
    {
     "name": "stdout",
     "output_type": "stream",
     "text": [
      "{'Seattle, WA': 47.6038321, 'San Antonio, TX': 29.4246002, 'Charlotte, NC': 35.2272086, 'Fort Lauderdale, FL': 26.1223084, 'Cleveland, OH': 41.5051613, 'Chicago, IL': 41.8755616, 'Gainesville, FL': 29.6519684, 'New Orleans, LA': 29.9499323, 'Las Vegas, NV': 36.1672559, 'New York, NY': 40.7127281, 'Denver, CO': 5.3428475, 'Nashville, TN': 36.1622296, 'Dallas/Fort Worth, TX': 32.7476308, 'San Diego, CA': 32.7174202, 'St. Louis, MO': 38.6529545, 'Phoenix, AZ': 33.4484367, 'Houston, TX': 29.7589382, 'Miami, FL': 25.7741728, 'Pellston, MI': 45.552789, 'Los Angeles, CA': 34.0536909, 'Atlanta, GA': 33.7489924, 'Oklahoma City, OK': 35.4729886, 'Portland, OR': 45.5202471, 'Aguadilla, PR': 18.4274359, 'Indianapolis, IN': 39.9164009}\n",
      "{'Seattle, WA': -122.3300624, 'San Antonio, TX': -98.4951405, 'Charlotte, NC': -80.8430827, 'Fort Lauderdale, FL': -80.1433786, 'Cleveland, OH': -81.6934446, 'Chicago, IL': -87.6244212, 'Gainesville, FL': -82.3249846, 'New Orleans, LA': -90.0701156, 'Las Vegas, NV': -115.1485163, 'New York, NY': -74.0060152, 'Denver, CO': -72.3959849, 'Nashville, TN': -86.7743531, 'Dallas/Fort Worth, TX': -97.3135971, 'San Diego, CA': -117.1627728, 'St. Louis, MO': -90.24111656024635, 'Phoenix, AZ': -112.0741417, 'Houston, TX': -95.3676974, 'Miami, FL': -80.19362, 'Pellston, MI': -84.783936, 'Los Angeles, CA': -118.242766, 'Atlanta, GA': -84.3902644, 'Oklahoma City, OK': -97.5170536, 'Portland, OR': -122.6741949, 'Aguadilla, PR': -67.1541343, 'Indianapolis, IN': -86.0519568269157}\n"
     ]
    }
   ],
   "source": [
    "latitudeDict = dict()\n",
    "longitudeDict = dict()\n",
    "for i in range(len(trainData['origin_city_name'].unique())):\n",
    "    try:\n",
    "        latitudeDict[trainData['origin_city_name'][i]] = geolocator.geocode(trainData['origin_city_name'][i]).latitude\n",
    "        longitudeDict[trainData['origin_city_name'][i]] = geolocator.geocode(trainData['origin_city_name'][i]).longitude\n",
    "    except AttributeError:\n",
    "        continue\n",
    "print(latitudeDict)\n",
    "print(longitudeDict)"
   ]
  },
  {
   "cell_type": "code",
   "execution_count": 30,
   "id": "posted-adams",
   "metadata": {},
   "outputs": [
    {
     "data": {
      "text/plain": [
       "101"
      ]
     },
     "execution_count": 30,
     "metadata": {},
     "output_type": "execute_result"
    }
   ],
   "source": [
    "len(latitudeDict)"
   ]
  },
  {
   "cell_type": "code",
   "execution_count": 32,
   "id": "indian-buffalo",
   "metadata": {},
   "outputs": [
    {
     "data": {
      "text/plain": [
       "25"
      ]
     },
     "execution_count": 32,
     "metadata": {},
     "output_type": "execute_result"
    }
   ],
   "source": [
    "len(latitude)"
   ]
  },
  {
   "cell_type": "code",
   "execution_count": 31,
   "id": "given-muscle",
   "metadata": {},
   "outputs": [
    {
     "data": {
      "text/plain": [
       "101"
      ]
     },
     "execution_count": 31,
     "metadata": {},
     "output_type": "execute_result"
    }
   ],
   "source": [
    "len(longitudeDict)"
   ]
  },
  {
   "cell_type": "code",
   "execution_count": 44,
   "id": "exotic-trading",
   "metadata": {},
   "outputs": [
    {
     "data": {
      "text/plain": [
       "367"
      ]
     },
     "execution_count": 44,
     "metadata": {},
     "output_type": "execute_result"
    }
   ],
   "source": [
    "trainData['origin_city_name'].nunique()"
   ]
  },
  {
   "cell_type": "code",
   "execution_count": 45,
   "id": "genuine-mouse",
   "metadata": {},
   "outputs": [
    {
     "data": {
      "text/plain": [
       "367"
      ]
     },
     "execution_count": 45,
     "metadata": {},
     "output_type": "execute_result"
    }
   ],
   "source": [
    "trainData.origin_city_name.nunique()"
   ]
  },
  {
   "cell_type": "code",
   "execution_count": 51,
   "id": "southwest-render",
   "metadata": {},
   "outputs": [],
   "source": [
    "avg_delay['fl_date'] = pd.to_datetime(avg_delay['fl_date'],\n",
    "                              format='%Y-%m-%d')"
   ]
  },
  {
   "cell_type": "code",
   "execution_count": 63,
   "id": "usual-bubble",
   "metadata": {},
   "outputs": [],
   "source": [
    "avg_delay = pd.read_csv('Datacsv/Avg_Arr_Dep_Delay.csv')\n",
    "\n",
    "avg_delay['fl_date'] = pd.to_datetime(avg_delay['fl_date'],\n",
    "                              format='%Y-%m-%d')\n",
    "\n",
    "#Groupby to compare monthly averages in delays\n",
    "# NOTE: Negative values (early arrivals) ARE INCLUDED\n",
    "month_arr = avg_delay.groupby(avg_delay['fl_date'].dt.strftime('%m'))['avg_arr_delay'].mean()\n",
    "month_arr = month_arr.to_frame()\n",
    "month_dep = avg_delay.groupby(avg_delay['fl_date'].dt.strftime('%m'))['avg_dep_delay'].mean()\n",
    "month_dep = month_dep.to_frame()\n",
    "\n",
    "#Resetting the index \n",
    "month_arr = month_arr.reset_index()\n",
    "month_dep = month_dep.reset_index()\n",
    "\n",
    "trainData['fl_date'] = pd.to_datetime(trainData.fl_date , format=\"%Y-%m-%d\").dt.month\n",
    "\n",
    "month_arr_dict =  dict(zip(month_arr.fl_date, month_arr.avg_arr_delay))\n",
    "month_dep_dict =  dict(zip(month_dep.fl_date, month_dep.avg_dep_delay))"
   ]
  },
  {
   "cell_type": "code",
   "execution_count": 56,
   "id": "three-roman",
   "metadata": {},
   "outputs": [],
   "source": [
    "trainData['fl_date'] = pd.to_datetime(trainData.fl_date , format=\"%Y-%m-%d\").dt.month"
   ]
  },
  {
   "cell_type": "code",
   "execution_count": 61,
   "id": "frozen-colon",
   "metadata": {},
   "outputs": [
    {
     "data": {
      "text/plain": [
       "{'01': 3.9281951759577782,\n",
       " '02': 6.670705822847316,\n",
       " '03': 2.854581405409215,\n",
       " '04': 4.177950054675787,\n",
       " '05': 6.416833084409337,\n",
       " '06': 10.393455353404956,\n",
       " '07': 8.910038151256863,\n",
       " '08': 8.847961842961464,\n",
       " '09': 1.5852627540712663,\n",
       " '10': 2.7923909776573588,\n",
       " '11': 2.757202900691894,\n",
       " '12': 4.815971225866452}"
      ]
     },
     "execution_count": 61,
     "metadata": {},
     "output_type": "execute_result"
    }
   ],
   "source": [
    "month_arr_dict =  dict(zip(month_arr.fl_date, month_arr.avg_arr_delay))\n",
    "month_arr_dict"
   ]
  },
  {
   "cell_type": "code",
   "execution_count": null,
   "id": "valued-creativity",
   "metadata": {},
   "outputs": [],
   "source": []
  },
  {
   "cell_type": "code",
   "execution_count": 57,
   "id": "parliamentary-charlotte",
   "metadata": {},
   "outputs": [
    {
     "data": {
      "text/html": [
       "<div>\n",
       "<style scoped>\n",
       "    .dataframe tbody tr th:only-of-type {\n",
       "        vertical-align: middle;\n",
       "    }\n",
       "\n",
       "    .dataframe tbody tr th {\n",
       "        vertical-align: top;\n",
       "    }\n",
       "\n",
       "    .dataframe thead th {\n",
       "        text-align: right;\n",
       "    }\n",
       "</style>\n",
       "<table border=\"1\" class=\"dataframe\">\n",
       "  <thead>\n",
       "    <tr style=\"text-align: right;\">\n",
       "      <th></th>\n",
       "      <th>fl_date</th>\n",
       "      <th>mkt_unique_carrier</th>\n",
       "      <th>op_unique_carrier</th>\n",
       "      <th>origin</th>\n",
       "      <th>origin_city_name</th>\n",
       "      <th>dest</th>\n",
       "      <th>dest_city_name</th>\n",
       "      <th>crs_dep_time</th>\n",
       "      <th>dep_time</th>\n",
       "      <th>crs_arr_time</th>\n",
       "      <th>arr_time</th>\n",
       "      <th>taxi_out</th>\n",
       "      <th>taxi_in</th>\n",
       "      <th>distance</th>\n",
       "      <th>arr_delay</th>\n",
       "    </tr>\n",
       "  </thead>\n",
       "  <tbody>\n",
       "    <tr>\n",
       "      <th>0</th>\n",
       "      <td>2</td>\n",
       "      <td>AS</td>\n",
       "      <td>AS</td>\n",
       "      <td>SEA</td>\n",
       "      <td>Seattle, WA</td>\n",
       "      <td>KOA</td>\n",
       "      <td>Kona, HI</td>\n",
       "      <td>1740</td>\n",
       "      <td>1734</td>\n",
       "      <td>2223</td>\n",
       "      <td>2155</td>\n",
       "      <td>17.0</td>\n",
       "      <td>5.0</td>\n",
       "      <td>2688</td>\n",
       "      <td>-28</td>\n",
       "    </tr>\n",
       "    <tr>\n",
       "      <th>1</th>\n",
       "      <td>6</td>\n",
       "      <td>WN</td>\n",
       "      <td>WN</td>\n",
       "      <td>SAT</td>\n",
       "      <td>San Antonio, TX</td>\n",
       "      <td>LAS</td>\n",
       "      <td>Las Vegas, NV</td>\n",
       "      <td>1610</td>\n",
       "      <td>1614</td>\n",
       "      <td>1655</td>\n",
       "      <td>1648</td>\n",
       "      <td>6.0</td>\n",
       "      <td>4.0</td>\n",
       "      <td>1069</td>\n",
       "      <td>-7</td>\n",
       "    </tr>\n",
       "    <tr>\n",
       "      <th>2</th>\n",
       "      <td>3</td>\n",
       "      <td>AA</td>\n",
       "      <td>AA</td>\n",
       "      <td>CLT</td>\n",
       "      <td>Charlotte, NC</td>\n",
       "      <td>IAH</td>\n",
       "      <td>Houston, TX</td>\n",
       "      <td>2210</td>\n",
       "      <td>2218</td>\n",
       "      <td>2356</td>\n",
       "      <td>1</td>\n",
       "      <td>14.0</td>\n",
       "      <td>6.0</td>\n",
       "      <td>912</td>\n",
       "      <td>5</td>\n",
       "    </tr>\n",
       "    <tr>\n",
       "      <th>3</th>\n",
       "      <td>6</td>\n",
       "      <td>DL</td>\n",
       "      <td>DL</td>\n",
       "      <td>FLL</td>\n",
       "      <td>Fort Lauderdale, FL</td>\n",
       "      <td>ATL</td>\n",
       "      <td>Atlanta, GA</td>\n",
       "      <td>745</td>\n",
       "      <td>738</td>\n",
       "      <td>932</td>\n",
       "      <td>927</td>\n",
       "      <td>15.0</td>\n",
       "      <td>14.0</td>\n",
       "      <td>581</td>\n",
       "      <td>-5</td>\n",
       "    </tr>\n",
       "    <tr>\n",
       "      <th>4</th>\n",
       "      <td>3</td>\n",
       "      <td>UA</td>\n",
       "      <td>EV</td>\n",
       "      <td>CLE</td>\n",
       "      <td>Cleveland, OH</td>\n",
       "      <td>IAH</td>\n",
       "      <td>Houston, TX</td>\n",
       "      <td>845</td>\n",
       "      <td>841</td>\n",
       "      <td>1115</td>\n",
       "      <td>1047</td>\n",
       "      <td>17.0</td>\n",
       "      <td>6.0</td>\n",
       "      <td>1091</td>\n",
       "      <td>-28</td>\n",
       "    </tr>\n",
       "  </tbody>\n",
       "</table>\n",
       "</div>"
      ],
      "text/plain": [
       "   fl_date mkt_unique_carrier op_unique_carrier origin     origin_city_name  \\\n",
       "0        2                 AS                AS    SEA          Seattle, WA   \n",
       "1        6                 WN                WN    SAT      San Antonio, TX   \n",
       "2        3                 AA                AA    CLT        Charlotte, NC   \n",
       "3        6                 DL                DL    FLL  Fort Lauderdale, FL   \n",
       "4        3                 UA                EV    CLE        Cleveland, OH   \n",
       "\n",
       "  dest dest_city_name  crs_dep_time  dep_time  crs_arr_time  arr_time  \\\n",
       "0  KOA       Kona, HI          1740      1734          2223      2155   \n",
       "1  LAS  Las Vegas, NV          1610      1614          1655      1648   \n",
       "2  IAH    Houston, TX          2210      2218          2356         1   \n",
       "3  ATL    Atlanta, GA           745       738           932       927   \n",
       "4  IAH    Houston, TX           845       841          1115      1047   \n",
       "\n",
       "   taxi_out  taxi_in  distance  arr_delay  \n",
       "0      17.0      5.0      2688        -28  \n",
       "1       6.0      4.0      1069         -7  \n",
       "2      14.0      6.0       912          5  \n",
       "3      15.0     14.0       581         -5  \n",
       "4      17.0      6.0      1091        -28  "
      ]
     },
     "execution_count": 57,
     "metadata": {},
     "output_type": "execute_result"
    }
   ],
   "source": [
    "trainData.head()"
   ]
  },
  {
   "cell_type": "code",
   "execution_count": null,
   "id": "white-house",
   "metadata": {},
   "outputs": [],
   "source": []
  }
 ],
 "metadata": {
  "kernelspec": {
   "display_name": "Python 3",
   "language": "python",
   "name": "python3"
  },
  "language_info": {
   "codemirror_mode": {
    "name": "ipython",
    "version": 3
   },
   "file_extension": ".py",
   "mimetype": "text/x-python",
   "name": "python",
   "nbconvert_exporter": "python",
   "pygments_lexer": "ipython3",
   "version": "3.7.7"
  }
 },
 "nbformat": 4,
 "nbformat_minor": 5
}
