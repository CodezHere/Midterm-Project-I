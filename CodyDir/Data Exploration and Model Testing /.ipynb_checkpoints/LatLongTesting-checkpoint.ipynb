{
 "cells": [
  {
   "cell_type": "code",
   "execution_count": 12,
   "id": "included-delta",
   "metadata": {},
   "outputs": [],
   "source": [
    "import pandas as pd\n",
    "import numpy as np\n",
    "from geopy.geocoders import Nominatim\n",
    "geolocator = Nominatim(user_agent=\"Airport_Locator\")"
   ]
  },
  {
   "cell_type": "code",
   "execution_count": 4,
   "id": "ethical-edwards",
   "metadata": {},
   "outputs": [],
   "source": [
    "trainData = pd.read_csv('Datacsv/New_trainData.csv')"
   ]
  },
  {
   "cell_type": "code",
   "execution_count": 7,
   "id": "pregnant-edinburgh",
   "metadata": {},
   "outputs": [],
   "source": [
    "truncTrain = trainData.head(50)"
   ]
  },
  {
   "cell_type": "code",
   "execution_count": 9,
   "id": "superior-bailey",
   "metadata": {},
   "outputs": [
    {
     "data": {
      "text/html": [
       "<div>\n",
       "<style scoped>\n",
       "    .dataframe tbody tr th:only-of-type {\n",
       "        vertical-align: middle;\n",
       "    }\n",
       "\n",
       "    .dataframe tbody tr th {\n",
       "        vertical-align: top;\n",
       "    }\n",
       "\n",
       "    .dataframe thead th {\n",
       "        text-align: right;\n",
       "    }\n",
       "</style>\n",
       "<table border=\"1\" class=\"dataframe\">\n",
       "  <thead>\n",
       "    <tr style=\"text-align: right;\">\n",
       "      <th></th>\n",
       "      <th>fl_date</th>\n",
       "      <th>mkt_unique_carrier</th>\n",
       "      <th>op_unique_carrier</th>\n",
       "      <th>origin</th>\n",
       "      <th>origin_city_name</th>\n",
       "      <th>dest</th>\n",
       "      <th>dest_city_name</th>\n",
       "      <th>crs_dep_time</th>\n",
       "      <th>dep_time</th>\n",
       "      <th>crs_arr_time</th>\n",
       "      <th>arr_time</th>\n",
       "      <th>taxi_out</th>\n",
       "      <th>taxi_in</th>\n",
       "      <th>distance</th>\n",
       "      <th>arr_delay</th>\n",
       "    </tr>\n",
       "  </thead>\n",
       "  <tbody>\n",
       "    <tr>\n",
       "      <th>0</th>\n",
       "      <td>2018-02-03</td>\n",
       "      <td>AS</td>\n",
       "      <td>AS</td>\n",
       "      <td>SEA</td>\n",
       "      <td>Seattle, WA</td>\n",
       "      <td>KOA</td>\n",
       "      <td>Kona, HI</td>\n",
       "      <td>1740</td>\n",
       "      <td>1734</td>\n",
       "      <td>2223</td>\n",
       "      <td>2155</td>\n",
       "      <td>17.0</td>\n",
       "      <td>5.0</td>\n",
       "      <td>2688</td>\n",
       "      <td>-28</td>\n",
       "    </tr>\n",
       "    <tr>\n",
       "      <th>1</th>\n",
       "      <td>2018-06-09</td>\n",
       "      <td>WN</td>\n",
       "      <td>WN</td>\n",
       "      <td>SAT</td>\n",
       "      <td>San Antonio, TX</td>\n",
       "      <td>LAS</td>\n",
       "      <td>Las Vegas, NV</td>\n",
       "      <td>1610</td>\n",
       "      <td>1614</td>\n",
       "      <td>1655</td>\n",
       "      <td>1648</td>\n",
       "      <td>6.0</td>\n",
       "      <td>4.0</td>\n",
       "      <td>1069</td>\n",
       "      <td>-7</td>\n",
       "    </tr>\n",
       "  </tbody>\n",
       "</table>\n",
       "</div>"
      ],
      "text/plain": [
       "      fl_date mkt_unique_carrier op_unique_carrier origin origin_city_name  \\\n",
       "0  2018-02-03                 AS                AS    SEA      Seattle, WA   \n",
       "1  2018-06-09                 WN                WN    SAT  San Antonio, TX   \n",
       "\n",
       "  dest dest_city_name  crs_dep_time  dep_time  crs_arr_time  arr_time  \\\n",
       "0  KOA       Kona, HI          1740      1734          2223      2155   \n",
       "1  LAS  Las Vegas, NV          1610      1614          1655      1648   \n",
       "\n",
       "   taxi_out  taxi_in  distance  arr_delay  \n",
       "0      17.0      5.0      2688        -28  \n",
       "1       6.0      4.0      1069         -7  "
      ]
     },
     "execution_count": 9,
     "metadata": {},
     "output_type": "execute_result"
    }
   ],
   "source": [
    "truncTrain.head(2)"
   ]
  },
  {
   "cell_type": "code",
   "execution_count": 19,
   "id": "upper-deposit",
   "metadata": {},
   "outputs": [
    {
     "data": {
      "text/plain": [
       "47.6038321"
      ]
     },
     "execution_count": 19,
     "metadata": {},
     "output_type": "execute_result"
    }
   ],
   "source": [
    "geolocator.geocode(truncTrain['origin_city_name'][0]).latitude"
   ]
  },
  {
   "cell_type": "code",
   "execution_count": 20,
   "id": "biblical-tract",
   "metadata": {
    "scrolled": true
   },
   "outputs": [
    {
     "name": "stdout",
     "output_type": "stream",
     "text": [
      "47.6038321\n",
      "29.4246002\n",
      "35.2272086\n",
      "26.1223084\n",
      "41.5051613\n",
      "41.8755616\n",
      "29.6519684\n",
      "29.9499323\n",
      "36.1672559\n",
      "40.7127281\n",
      "5.3428475\n",
      "41.8755616\n",
      "36.1622296\n",
      "5.3428475\n",
      "32.7476308\n",
      "32.7174202\n",
      "38.6529545\n",
      "41.8755616\n",
      "33.4484367\n",
      "29.7589382\n",
      "25.7741728\n",
      "41.8755616\n",
      "40.7127281\n",
      "40.7127281\n",
      "45.552789\n",
      "34.0536909\n",
      "33.7489924\n",
      "35.4729886\n",
      "47.6038321\n",
      "45.5202471\n",
      "35.2272086\n",
      "18.4274359\n",
      "39.9164009\n",
      "41.8755616\n",
      "40.7596198\n",
      "44.9772995\n",
      "48.23251\n",
      "38.8949924\n",
      "41.8755616\n",
      "35.9217839\n",
      "42.3602534\n",
      "33.7489924\n",
      "42.8867166\n",
      "38.8949924\n",
      "32.7762719\n",
      "35.2272086\n",
      "28.5421109\n",
      "34.0536909\n",
      "36.1672559\n",
      "25.7741728\n"
     ]
    }
   ],
   "source": [
    "for i in range(len(truncTrain['origin_city_name'])):\n",
    "    print(geolocator.geocode(truncTrain['origin_city_name'][i]).latitude)"
   ]
  },
  {
   "cell_type": "code",
   "execution_count": 24,
   "id": "synthetic-incidence",
   "metadata": {},
   "outputs": [
    {
     "data": {
      "text/plain": [
       "array(['Seattle, WA', 'San Antonio, TX', 'Charlotte, NC',\n",
       "       'Fort Lauderdale, FL', 'Cleveland, OH', 'Chicago, IL',\n",
       "       'Gainesville, FL', 'New Orleans, LA', 'Las Vegas, NV',\n",
       "       'New York, NY', 'Denver, CO', 'Nashville, TN',\n",
       "       'Dallas/Fort Worth, TX', 'San Diego, CA', 'St. Louis, MO',\n",
       "       'Phoenix, AZ', 'Houston, TX', 'Miami, FL', 'Pellston, MI',\n",
       "       'Los Angeles, CA', 'Atlanta, GA', 'Oklahoma City, OK',\n",
       "       'Portland, OR', 'Aguadilla, PR', 'Indianapolis, IN',\n",
       "       'Salt Lake City, UT', 'Minneapolis, MN', 'Minot, ND',\n",
       "       'Washington, DC', 'Raleigh/Durham, NC', 'Boston, MA',\n",
       "       'Buffalo, NY', 'Dallas, TX', 'Orlando, FL'], dtype=object)"
      ]
     },
     "execution_count": 24,
     "metadata": {},
     "output_type": "execute_result"
    }
   ],
   "source": [
    "truncTrain['origin_city_name'].unique()"
   ]
  },
  {
   "cell_type": "code",
   "execution_count": 27,
   "id": "turkish-honey",
   "metadata": {},
   "outputs": [
    {
     "name": "stdout",
     "output_type": "stream",
     "text": [
      "{'Seattle, WA': 47.6038321, 'San Antonio, TX': 29.4246002, 'Charlotte, NC': 35.2272086, 'Fort Lauderdale, FL': 26.1223084, 'Cleveland, OH': 41.5051613, 'Chicago, IL': 41.8755616, 'Gainesville, FL': 29.6519684, 'New Orleans, LA': 29.9499323, 'Las Vegas, NV': 36.1672559, 'New York, NY': 40.7127281, 'Denver, CO': 5.3428475, 'Nashville, TN': 36.1622296, 'Dallas/Fort Worth, TX': 32.7476308, 'San Diego, CA': 32.7174202, 'St. Louis, MO': 38.6529545, 'Phoenix, AZ': 33.4484367, 'Houston, TX': 29.7589382, 'Miami, FL': 25.7741728, 'Pellston, MI': 45.552789, 'Los Angeles, CA': 34.0536909, 'Atlanta, GA': 33.7489924, 'Oklahoma City, OK': 35.4729886, 'Portland, OR': 45.5202471, 'Aguadilla, PR': 18.4274359, 'Indianapolis, IN': 39.9164009}\n",
      "{'Seattle, WA': -122.3300624, 'San Antonio, TX': -98.4951405, 'Charlotte, NC': -80.8430827, 'Fort Lauderdale, FL': -80.1433786, 'Cleveland, OH': -81.6934446, 'Chicago, IL': -87.6244212, 'Gainesville, FL': -82.3249846, 'New Orleans, LA': -90.0701156, 'Las Vegas, NV': -115.1485163, 'New York, NY': -74.0060152, 'Denver, CO': -72.3959849, 'Nashville, TN': -86.7743531, 'Dallas/Fort Worth, TX': -97.3135971, 'San Diego, CA': -117.1627728, 'St. Louis, MO': -90.24111656024635, 'Phoenix, AZ': -112.0741417, 'Houston, TX': -95.3676974, 'Miami, FL': -80.19362, 'Pellston, MI': -84.783936, 'Los Angeles, CA': -118.242766, 'Atlanta, GA': -84.3902644, 'Oklahoma City, OK': -97.5170536, 'Portland, OR': -122.6741949, 'Aguadilla, PR': -67.1541343, 'Indianapolis, IN': -86.0519568269157}\n"
     ]
    }
   ],
   "source": [
    "latitude = dict()\n",
    "longitude = dict()\n",
    "for i in range(len(truncTrain['origin_city_name'].unique())):\n",
    "    latitude[truncTrain['origin_city_name'][i]] = geolocator.geocode(truncTrain['origin_city_name'][i]).latitude\n",
    "    longitude[truncTrain['origin_city_name'][i]] = geolocator.geocode(truncTrain['origin_city_name'][i]).longitude\n",
    "print(latitude)\n",
    "print(longitude)"
   ]
  },
  {
   "cell_type": "code",
   "execution_count": null,
   "id": "injured-optics",
   "metadata": {},
   "outputs": [],
   "source": []
  }
 ],
 "metadata": {
  "kernelspec": {
   "display_name": "Python 3",
   "language": "python",
   "name": "python3"
  },
  "language_info": {
   "codemirror_mode": {
    "name": "ipython",
    "version": 3
   },
   "file_extension": ".py",
   "mimetype": "text/x-python",
   "name": "python",
   "nbconvert_exporter": "python",
   "pygments_lexer": "ipython3",
   "version": "3.7.7"
  }
 },
 "nbformat": 4,
 "nbformat_minor": 5
}
