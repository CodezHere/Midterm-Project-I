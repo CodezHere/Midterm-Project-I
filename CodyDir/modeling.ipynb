{
 "cells": [
  {
   "cell_type": "markdown",
   "metadata": {},
   "source": [
    "# Machine Learning\n",
    "\n",
    "In this file, instructions how to approach the challenge can be found."
   ]
  },
  {
   "cell_type": "markdown",
   "metadata": {},
   "source": [
    "We are going to work on different types of Machine Learning problems:\n",
    "\n",
    "- **Regression Problem**: The goal is to predict delay of flights.\n",
    "- **(Stretch) Multiclass Classification**: If the plane was delayed, we will predict what type of delay it is (will be).\n",
    "- **(Stretch) Binary Classification**: The goal is to predict if the flight will be cancelled."
   ]
  },
  {
   "cell_type": "code",
   "execution_count": 1,
   "metadata": {},
   "outputs": [],
   "source": [
    "import pandas as pd\n",
    "import numpy as np\n",
    "from sklearn.linear_model import LinearRegression\n",
    "from sklearn.model_selection import train_test_split, KFold, GridSearchCV, cross_val_score\n",
    "from sklearn import metrics\n",
    "from sklearn.metrics import mean_squared_error, r2_score\n",
    "from sklearn import preprocessing\n",
    "from sklearn.preprocessing import StandardScaler, PolynomialFeatures\n",
    "scaler = StandardScaler()\n",
    "import xgboost as xgb\n",
    "import seaborn as sns\n",
    "from sklearn.ensemble import RandomForestRegressor, GradientBoostingRegressor\n"
   ]
  },
  {
   "cell_type": "code",
   "execution_count": 2,
   "metadata": {},
   "outputs": [],
   "source": [
    "olsInitial = pd.read_csv('Datacsv/OLSinitial.csv')"
   ]
  },
  {
   "cell_type": "code",
   "execution_count": 3,
   "metadata": {},
   "outputs": [],
   "source": [
    "Flights = pd.read_csv('Datacsv/Flights-300K.csv')"
   ]
  },
  {
   "cell_type": "code",
   "execution_count": 4,
   "metadata": {},
   "outputs": [],
   "source": [
    "trainData2018 = pd.read_csv('Datacsv/trainData2018.csv')\n",
    "trainData2019 = pd.read_csv('Datacsv/trainData2019.csv')"
   ]
  },
  {
   "cell_type": "code",
   "execution_count": null,
   "metadata": {},
   "outputs": [],
   "source": []
  },
  {
   "cell_type": "markdown",
   "metadata": {},
   "source": [
    "## Main Task: Regression Problem"
   ]
  },
  {
   "cell_type": "markdown",
   "metadata": {},
   "source": [
    "The target variable is **ARR_DELAY**. We need to be careful which columns to use and which don't. For example, DEP_DELAY is going to be the perfect predictor, but we can't use it because in real-life scenario, we want to predict the delay before the flight takes of --> We can use average delay from earlier days but not the one from the actual flight we predict.  \n",
    "\n",
    "For example, variables **CARRIER_DELAY, WEATHER_DELAY, NAS_DELAY, SECURITY_DELAY, LATE_AIRCRAFT_DELAY** shouldn't be used directly as predictors as well. However, we can create various transformations from earlier values.\n",
    "\n",
    "We will be evaluating your models by predicting the ARR_DELAY for all flights **1 week in advance**."
   ]
  },
  {
   "cell_type": "code",
   "execution_count": 5,
   "metadata": {},
   "outputs": [],
   "source": [
    "mainTrainData = pd.concat([trainData2018, trainData2019], ignore_index=True)"
   ]
  },
  {
   "cell_type": "code",
   "execution_count": 13,
   "metadata": {},
   "outputs": [],
   "source": [
    "#XGBoost \n",
    "mainTrainData = mainTrainData.dropna()\n",
    "\n",
    "mainTrainData['fl_date'] = pd.to_datetime(mainTrainData.fl_date, format=\"%Y-%m-%d\").dt.month\n",
    "\n",
    "monthDummies = pd.get_dummies(mainTrainData['fl_date'])\n",
    "\n",
    "mktCarrierDummies = pd.get_dummies(mainTrainData['mkt_unique_carrier'])\n",
    "\n",
    "mainTrainData = pd.concat([mainTrainData, mktCarrierDummies, monthDummies], axis=1)\n",
    "\n",
    "y = mainTrainData['arr_delay'].values.reshape(-1,1)\n",
    "X = mainTrainData.drop(columns = ['fl_date','mkt_unique_carrier','op_unique_carrier','origin','dest','arr_delay'])\n",
    "\n",
    "XScaled = scaler.fit_transform(X)\n",
    "yScaled = scaler.fit_transform(y)\n",
    "\n",
    "xg_reg = xgb.XGBRegressor(objective ='reg:squarederror', colsample_bytree = 0.3, learning_rate = 0.01,\n",
    "                max_depth = 8, alpha = 10, n_estimators = 10)\n",
    "\n",
    "cv_r2 = []\n",
    "\n",
    "cv_mse = []\n",
    "\n",
    "kf = KFold(n_splits=10)\n",
    "\n",
    "# X_train, X_test, y_train, y_test = train_test_split(XScaled, yScaled, train_size = 0.75, random_state=5)\n",
    "for train_idx, test_idx in kf.split(XScaled, yScaled):\n",
    "        X_train, X_test, y_train, y_test = XScaled[train_idx], XScaled[test_idx], yScaled[train_idx], yScaled[test_idx]\n",
    "        \n",
    "        xg_reg.fit(X_train, y_train)\n",
    "        \n",
    "        y_pred = xg_reg.predict(X_test)\n",
    "        mse = mean_squared_error(y_test, y_pred)\n",
    "        r2 = r2_score(y_test, y_pred)\n",
    "        \n",
    "        cv_mse.append(mse)\n",
    "        cv_r2.append(r2)\n",
    "\n",
    "cv_r2 = np.array(cv_r2)\n",
    "print(f'Cross-validated R^2\\nMean:\\t{cv_r2.mean()}\\nStd.:\\t{cv_r2.std()}')"
   ]
  },
  {
   "cell_type": "code",
   "execution_count": 15,
   "metadata": {},
   "outputs": [
    {
     "data": {
      "text/plain": [
       "numpy.ndarray"
      ]
     },
     "execution_count": 15,
     "metadata": {},
     "output_type": "execute_result"
    }
   ],
   "source": [
    "type(XScaled)"
   ]
  },
  {
   "cell_type": "code",
   "execution_count": 12,
   "metadata": {},
   "outputs": [
    {
     "name": "stdout",
     "output_type": "stream",
     "text": [
      "Cross-validated R^2\n",
      "Mean:\t-0.059438231809667175\n",
      "Std.:\t0.18951890810336097\n"
     ]
    }
   ],
   "source": [
    "#RandomForest\n",
    "\n",
    "mainTrainData = mainTrainData.dropna()\n",
    "\n",
    "mainTrainData['fl_date'] = pd.to_datetime(mainTrainData.fl_date, format=\"%Y-%m-%d\").dt.month\n",
    "\n",
    "monthDummies = pd.get_dummies(mainTrainData['fl_date'])\n",
    "\n",
    "mktCarrierDummies = pd.get_dummies(mainTrainData['mkt_unique_carrier'])\n",
<<<<<<< HEAD
    "\n",
    "mainTrainData = pd.concat([mainTrainData, mktCarrierDummies, monthDummies], axis=1)\n",
    "\n",
=======
    "mainTrainData = pd.concat([mainTrainData, mktCarrierDummies], axis=1)\n",
>>>>>>> dd1fe3869adf020cbea830b9d7d3210c43fa876b
    "y = mainTrainData['arr_delay'].values.reshape(-1,1)\n",
    "X = mainTrainData.drop(columns = ['fl_date','mkt_unique_carrier','op_unique_carrier','origin','dest','arr_delay'])\n",
    "\n",
    "XScaled = scaler.fit_transform(X)\n",
    "yScaled = scaler.fit_transform(y)\n",
    "\n",
    "rfreg=RandomForestRegressor(random_state=5)\n",
    "cv_r2 = []\n",
    "\n",
    "cv_mse = []\n",
    "\n",
    "kf = KFold(n_splits=10)\n",
    "\n",
    "# X_train, X_test, y_train, y_test = train_test_split(XScaled, yScaled, train_size = 0.75, random_state=5)\n",
    "for train_idx, test_idx in kf.split(XScaled, yScaled):\n",
    "        X_train, X_test, y_train, y_test = XScaled[train_idx], XScaled[test_idx], yScaled[train_idx], yScaled[test_idx]\n",
    "        \n",
    "        rfreg.fit(X_train, y_train.ravel())\n",
    "        \n",
    "        y_pred = rfreg.predict(X_test)\n",
    "        mse = mean_squared_error(y_test, y_pred)\n",
    "        r2 = r2_score(y_test, y_pred)\n",
    "        \n",
    "        cv_mse.append(mse)\n",
    "        cv_r2.append(r2)\n",
    "\n",
    "cv_mse = np.array(cv_mse)        \n",
    "cv_r2 = np.array(cv_r2)\n",
    "print(f'Cross-validated R^2\\nMean:\\t{cv_r2.mean()}\\nStd.:\\t{cv_r2.std()}')"
   ]
  },
  {
   "cell_type": "code",
   "execution_count": null,
   "metadata": {},
   "outputs": [],
   "source": []
  },
  {
   "cell_type": "code",
   "execution_count": null,
   "metadata": {},
   "outputs": [],
   "source": []
  },
  {
   "cell_type": "code",
   "execution_count": 6,
   "metadata": {},
   "outputs": [
    {
     "name": "stdout",
     "output_type": "stream",
     "text": [
      "MSE:  1.0168651479156647\n",
      "R^2 Score:  0.017437961138959346\n"
     ]
    }
   ],
   "source": [
    "#Polynomial Linear Regression to overcome some underfitting and increase the compplexity of the model\n",
    "\n",
    "mainTrainData = mainTrainData.dropna()\n",
    "mainTrainData['fl_date'] = pd.to_datetime(mainTrainData.fl_date, format=\"%Y-%m-%d\").dt.month\n",
    "monthDummies = pd.get_dummies(mainTrainData['fl_date'])\n",
    "mktCarrierDummies = pd.get_dummies(mainTrainData['mkt_unique_carrier'])\n",
    "mainTrainData = pd.concat([mainTrainData, mktCarrierDummies, monthDummies], axis=1)\n",
    "y = mainTrainData['arr_delay'].values.reshape(-1,1)\n",
    "X = mainTrainData.drop(columns = ['fl_date','mkt_unique_carrier','op_unique_carrier','origin','dest','arr_delay'])\n",
    "X['const'] = 1\n",
    "XScaled = scaler.fit_transform(X)\n",
    "yScaled = scaler.fit_transform(y)\n",
    "X_train, X_test, y_train, y_test = train_test_split(XScaled, yScaled, train_size = 0.75, random_state=5)\n",
    "linreg = LinearRegression()\n",
    "poly = PolynomialFeatures(degree=3)\n",
    "X_poly_train = poly.fit_transform(X_train)\n",
    "X_poly_test = poly.transform(X_test)\n",
    "linreg.fit(X_poly_train, y_train)\n",
    "y_poly_pred = linreg.predict(X_poly_test)\n",
    "print('MSE: ', mean_squared_error(y_test, y_poly_pred))\n",
    "print('R^2 Score: ', linreg.score(X_poly_test, y_test))"
   ]
  },
  {
   "cell_type": "raw",
   "metadata": {},
   "source": [
    "MSE:  1.0169871154820518\n",
    "R^2 Score:  0.017320108048065608"
   ]
  },
  {
   "cell_type": "code",
   "execution_count": 12,
   "metadata": {},
   "outputs": [
    {
     "name": "stdout",
     "output_type": "stream",
     "text": [
      "MSE:  1.0201727996783896\n",
      "R^2 Score:  0.014241890286804781\n",
      "R^2 Adj-Score:  0.013893295821772789\n"
     ]
    }
   ],
   "source": [
    "#Using the new and improved data! Thanks Karan :D\n",
    "\n",
    "#OLS Model - updated data, dummies of mkt_carrier and month\n",
    "mainTrainData = pd.concat([trainData2018, trainData2019], ignore_index=True)\n",
    "mainTrainData = mainTrainData.dropna()\n",
    "\n",
    "mainTrainData['fl_date'] = pd.to_datetime(mainTrainData.fl_date, format=\"%Y-%m-%d\").dt.month\n",
    "monthDummies = pd.get_dummies(mainTrainData['fl_date'])\n",
    "\n",
    "mktCarrierDummies = pd.get_dummies(mainTrainData['mkt_unique_carrier'])\n",
    "\n",
    "mainTrainData = pd.concat([mainTrainData, mktCarrierDummies, monthDummies], axis=1)\n",
    "\n",
    "y = mainTrainData['arr_delay'].values.reshape(-1,1)\n",
    "X = mainTrainData.drop(columns = ['fl_date','mkt_unique_carrier','op_unique_carrier','origin','dest','arr_delay'])\n",
    "\n",
    "X['const'] = 1\n",
    "\n",
    "XScaled = scaler.fit_transform(X)\n",
    "yScaled = scaler.fit_transform(y)\n",
    "\n",
    "X_train, X_test, y_train, y_test = train_test_split(XScaled, yScaled, train_size = 0.75, random_state=5)\n",
    "\n",
    "linreg = LinearRegression()\n",
    "linreg.fit(X_train, y_train)\n",
    "y_pred = linreg.predict(X_test)\n",
    "\n",
    "print('MSE: ', mean_squared_error(y_test, y_pred))\n",
    "print('R^2 Score: ', linreg.score(X_test, y_test))\n",
    "print('R^2 Adj-Score: ', 1-(1-r2_score(y_test, y_pred))*((len(X_test)-1)/(len(X_test)-len(X_test[0])-1)))"
   ]
  },
  {
   "cell_type": "code",
   "execution_count": 52,
   "metadata": {},
   "outputs": [
    {
     "name": "stdout",
     "output_type": "stream",
     "text": [
      "MSE:  0.9743619409286973\n",
      "R^2 Score:  0.009230237571475342\n",
      "R^2 Adj-Score:  0.009122877787932193\n"
     ]
    }
   ],
   "source": [
    "#OLS Model - Distance Squared added as a feature\n",
    "filteredFlights = Flights[['mkt_carrier_fl_num', 'op_carrier_fl_num', 'origin_airport_id', 'dest_airport_id', 'crs_dep_time', 'crs_arr_time', 'distance', 'arr_delay']]\n",
    "filteredFlights = filteredFlights.dropna()\n",
    "y = filteredFlights.iloc[:, -1:]\n",
    "X = filteredFlights.iloc[:,1:-1]\n",
    "X['distanceSQ'] = X['distance']**2\n",
    "X['const'] = 1\n",
    "XScaled = scaler.fit_transform(X)\n",
    "yScaled = scaler.fit_transform(y)\n",
    "X_train, X_test, y_train, y_test = train_test_split(XScaled, yScaled, train_size = 0.75, random_state=5)\n",
    "linreg = LinearRegression()\n",
    "linreg.fit(X_train, y_train)\n",
    "y_pred = linreg.predict(X_test)\n",
    "print('MSE: ', mean_squared_error(y_test, y_pred))\n",
    "print('R^2 Score: ', linreg.score(X_test, y_test))\n",
    "print('R^2 Adj-Score: ', 1-(1-r2_score(y_test, y_pred))*((len(X_test)-1)/(len(X_test)-len(X_test[0])-1)))"
   ]
  },
  {
   "cell_type": "code",
   "execution_count": 132,
   "metadata": {},
   "outputs": [
    {
     "name": "stdout",
     "output_type": "stream",
     "text": [
      "MSE:  1.1853815603259685\n",
      "R^2 Score:  0.009230237571475342\n",
      "R^2 Adj-Score:  -0.20545714131937332\n"
     ]
    }
   ],
   "source": [
    "#XGBoost Model - Distance Squared added as a feature\n",
    "\n",
    "filteredFlights = Flights[['mkt_carrier_fl_num', 'op_carrier_fl_num', 'origin_airport_id', 'dest_airport_id', 'crs_dep_time', 'crs_arr_time', 'distance', 'arr_delay']]\n",
    "filteredFlights = filteredFlights.dropna()\n",
    "y = filteredFlights.iloc[:, -1:]\n",
    "X = filteredFlights.iloc[:,1:-1]\n",
    "X['distanceSQ'] = X['distance']**2\n",
    "XScaled = scaler.fit_transform(X)\n",
    "yScaled = scaler.fit_transform(y)\n",
    "\n",
    "data_dmatrix = xgb.DMatrix(data=XScaled,label=yScaled)\n",
    "\n",
    "X_train, X_test, y_train, y_test = train_test_split(XScaled, yScaled, train_size = 0.75, random_state=5)\n",
    "xg_reg = xgb.XGBRegressor(objective ='reg:squarederror', colsample_bytree = 0.3, learning_rate = 0.01,\n",
    "                max_depth = 8, alpha = 10, n_estimators = 10)\n",
    "\n",
    "xg_reg.fit(X_train, y_train)\n",
    "y_pred = xg_reg.predict(X_test)\n",
    "print('MSE: ', mean_squared_error(y_test, y_pred))\n",
    "print('R^2 Score: ', linreg.score(X_test, y_test))\n",
    "print('R^2 Adj-Score: ', 1-(1-r2_score(y_test, y_pred))*((len(X_test)-1)/(len(X_test)-len(X_test[0])-1)))"
   ]
  },
  {
   "cell_type": "code",
   "execution_count": 138,
   "metadata": {},
   "outputs": [
    {
     "name": "stdout",
     "output_type": "stream",
     "text": [
      "MSE:  0.9747221620357202\n",
      "R^2 Score:  0.008863950501306617\n",
      "R^2 Adj-Score:  0.008769977234074355\n"
     ]
    }
   ],
   "source": [
    "#Baseline OLS Model - No Feature Engineering\n",
    "\n",
    "filteredFlights = Flights[['mkt_carrier_fl_num', 'op_carrier_fl_num', 'origin_airport_id', 'dest_airport_id', 'crs_dep_time', 'crs_arr_time', 'distance', 'arr_delay']]\n",
    "filteredFlights = filteredFlights.dropna()\n",
    "y = filteredFlights.iloc[:, -1:]\n",
    "X = filteredFlights.iloc[:,1:-1]\n",
    "X['const'] = 1\n",
    "XScaled = scaler.fit_transform(X)\n",
    "yScaled = scaler.fit_transform(y)\n",
    "X_train, X_test, y_train, y_test = train_test_split(XScaled, yScaled, train_size = 0.75, random_state=5)\n",
    "linreg = LinearRegression()\n",
    "linreg.fit(X_train, y_train)\n",
    "y_pred = linreg.predict(X_test)\n",
    "print('MSE: ', mean_squared_error(y_test, y_pred))\n",
    "print('R^2 Score: ', linreg.score(X_test, y_test))\n",
    "print('R^2 Adj-Score: ', 1-(1-r2_score(y_test, y_pred))*((len(X_test)-1)/(len(X_test)-len(X_test[0])-1)))"
   ]
  },
  {
   "cell_type": "code",
   "execution_count": null,
   "metadata": {},
   "outputs": [],
   "source": []
  },
  {
   "cell_type": "markdown",
   "metadata": {},
   "source": [
    "### Feature Engineering"
   ]
  },
  {
   "cell_type": "markdown",
   "metadata": {},
   "source": [
    "Feature engineering will play a crucial role in this problems. We have only very little attributes so we need to create some features that will have some predictive power.\n",
    "\n",
    "- weather: we can use some weather API to look for the weather in time of the scheduled departure and scheduled arrival.\n",
    "- statistics (avg, mean, median, std, min, max...): we can take a look at previous delays and compute descriptive statistics\n",
    "- airports encoding: we need to think about what to do with the airports and other categorical variables\n",
    "- time of the day: the delay probably depends on the airport traffic which varies during the day.\n",
    "- airport traffic\n",
    "- unsupervised learning as feature engineering?\n",
    "- **what are the additional options?**: Think about what we could do more to improve the model."
   ]
  },
  {
   "cell_type": "code",
   "execution_count": null,
   "metadata": {},
   "outputs": [],
   "source": []
  },
  {
   "cell_type": "code",
   "execution_count": null,
   "metadata": {},
   "outputs": [],
   "source": []
  },
  {
   "cell_type": "code",
   "execution_count": null,
   "metadata": {},
   "outputs": [],
   "source": []
  },
  {
   "cell_type": "code",
   "execution_count": null,
   "metadata": {},
   "outputs": [],
   "source": []
  },
  {
   "cell_type": "code",
   "execution_count": null,
   "metadata": {},
   "outputs": [],
   "source": []
  },
  {
   "cell_type": "markdown",
   "metadata": {},
   "source": [
    "### Feature Selection / Dimensionality Reduction"
   ]
  },
  {
   "cell_type": "markdown",
   "metadata": {},
   "source": [
    "We need to apply different selection techniques to find out which one will be the best for our problems.\n",
    "\n",
    "- Original Features vs. PCA conponents?"
   ]
  },
  {
   "cell_type": "code",
   "execution_count": null,
   "metadata": {},
   "outputs": [],
   "source": []
  },
  {
   "cell_type": "code",
   "execution_count": null,
   "metadata": {},
   "outputs": [],
   "source": []
  },
  {
   "cell_type": "code",
   "execution_count": null,
   "metadata": {},
   "outputs": [],
   "source": []
  },
  {
   "cell_type": "code",
   "execution_count": null,
   "metadata": {},
   "outputs": [],
   "source": []
  },
  {
   "cell_type": "code",
   "execution_count": null,
   "metadata": {},
   "outputs": [],
   "source": []
  },
  {
   "cell_type": "markdown",
   "metadata": {},
   "source": [
    "### Modeling"
   ]
  },
  {
   "cell_type": "markdown",
   "metadata": {},
   "source": [
    "Use different ML techniques to predict each problem.\n",
    "\n",
    "- linear / logistic / multinomial logistic regression\n",
    "- Naive Bayes\n",
    "- Random Forest\n",
    "- SVM\n",
    "- XGBoost\n",
    "- The ensemble of your own choice"
   ]
  },
  {
   "cell_type": "code",
   "execution_count": null,
   "metadata": {},
   "outputs": [],
   "source": []
  },
  {
   "cell_type": "code",
   "execution_count": null,
   "metadata": {},
   "outputs": [],
   "source": []
  },
  {
   "cell_type": "code",
   "execution_count": null,
   "metadata": {},
   "outputs": [],
   "source": []
  },
  {
   "cell_type": "code",
   "execution_count": null,
   "metadata": {},
   "outputs": [],
   "source": []
  },
  {
   "cell_type": "markdown",
   "metadata": {},
   "source": [
    "### Evaluation"
   ]
  },
  {
   "cell_type": "markdown",
   "metadata": {},
   "source": [
    "You have data from 2018 and 2019 to develop models. Use different evaluation metrics for each problem and compare the performance of different models.\n",
    "\n",
    "You are required to predict delays on **out of sample** data from **first 7 days (1st-7th) of January 2020** and to share the file with LighthouseLabs. Sample submission can be found in the file **_sample_submission.csv_**"
   ]
  },
  {
   "cell_type": "code",
   "execution_count": null,
   "metadata": {},
   "outputs": [],
   "source": []
  },
  {
   "cell_type": "code",
   "execution_count": null,
   "metadata": {},
   "outputs": [],
   "source": []
  },
  {
   "cell_type": "code",
   "execution_count": null,
   "metadata": {},
   "outputs": [],
   "source": []
  },
  {
   "cell_type": "code",
   "execution_count": null,
   "metadata": {},
   "outputs": [],
   "source": []
  },
  {
   "cell_type": "markdown",
   "metadata": {},
   "source": [
    "======================================================================\n",
    "## Stretch Tasks"
   ]
  },
  {
   "cell_type": "markdown",
   "metadata": {},
   "source": [
    "### Multiclass Classification"
   ]
  },
  {
   "cell_type": "markdown",
   "metadata": {},
   "source": [
    "The target variables are **CARRIER_DELAY, WEATHER_DELAY, NAS_DELAY, SECURITY_DELAY, LATE_AIRCRAFT_DELAY**. We need to do additional transformations because these variables are not binary but continuos. For each flight that was delayed, we need to have one of these variables as 1 and others 0.\n",
    "\n",
    "It can happen that we have two types of delays with more than 0 minutes. In this case, take the bigger one as 1 and others as 0."
   ]
  },
  {
   "cell_type": "code",
   "execution_count": null,
   "metadata": {},
   "outputs": [],
   "source": []
  },
  {
   "cell_type": "code",
   "execution_count": null,
   "metadata": {},
   "outputs": [],
   "source": []
  },
  {
   "cell_type": "code",
   "execution_count": null,
   "metadata": {},
   "outputs": [],
   "source": []
  },
  {
   "cell_type": "markdown",
   "metadata": {},
   "source": [
    "### Binary Classification"
   ]
  },
  {
   "cell_type": "markdown",
   "metadata": {},
   "source": [
    "The target variable is **CANCELLED**. The main problem here is going to be huge class imbalance. We have only very little cancelled flights with comparison to all flights. It is important to do the right sampling before training and to choose correct evaluation metrics."
   ]
  },
  {
   "cell_type": "code",
   "execution_count": null,
   "metadata": {},
   "outputs": [],
   "source": []
  },
  {
   "cell_type": "code",
   "execution_count": null,
   "metadata": {},
   "outputs": [],
   "source": []
  },
  {
   "cell_type": "code",
   "execution_count": null,
   "metadata": {},
   "outputs": [],
   "source": []
  }
 ],
 "metadata": {
  "kernelspec": {
   "display_name": "Python 3",
   "language": "python",
   "name": "python3"
  },
  "language_info": {
   "codemirror_mode": {
    "name": "ipython",
    "version": 3
   },
   "file_extension": ".py",
   "mimetype": "text/x-python",
   "name": "python",
   "nbconvert_exporter": "python",
   "pygments_lexer": "ipython3",
   "version": "3.7.7"
  }
 },
 "nbformat": 4,
 "nbformat_minor": 4
}
